{
  "metadata": {
    "kernelspec": {
      "language": "python",
      "display_name": "Python 3",
      "name": "python3"
    },
    "language_info": {
      "name": "python",
      "version": "3.6.6",
      "mimetype": "text/x-python",
      "codemirror_mode": {
        "name": "ipython",
        "version": 3
      },
      "pygments_lexer": "ipython3",
      "nbconvert_exporter": "python",
      "file_extension": ".py"
    },
    "colab": {
      "provenance": []
    }
  },
  "nbformat_minor": 0,
  "nbformat": 4,
  "cells": [
    {
      "cell_type": "code",
      "source": [
        "import numpy as np \n",
        "import pandas as pd "
      ],
      "metadata": {
        "_uuid": "8f2839f25d086af736a60e9eeb907d3b93b6e0e5",
        "_cell_guid": "b1076dfc-b9ad-4769-8c92-a6c4dae69d19",
        "execution": {
          "iopub.status.busy": "2022-07-22T05:39:26.643434Z",
          "iopub.execute_input": "2022-07-22T05:39:26.643740Z",
          "iopub.status.idle": "2022-07-22T05:39:26.653566Z",
          "shell.execute_reply.started": "2022-07-22T05:39:26.643689Z",
          "shell.execute_reply": "2022-07-22T05:39:26.652616Z"
        },
        "trusted": true,
        "id": "SXUEJKgfHXwi"
      },
      "execution_count": 1,
      "outputs": []
    },
    {
      "cell_type": "markdown",
      "source": [
        "**Resources - **\n",
        "1. https://www.analyticsvidhya.com/blog/2019/06/comprehensive-guide-text-summarization-using-deep-learning-python/\n",
        "2. https://www.analyticsvidhya.com/blog/2018/11/introduction-text-summarization-textrank-python/\n",
        "3. https://towardsdatascience.com/understand-text-summarization-and-create-your-own-summarizer-in-python-b26a9f09fc70\n",
        "4. https://github.com/aravindpai/How-to-build-own-text-summarizer-using-deep-learning"
      ],
      "metadata": {
        "id": "WED_odeiHXwq"
      }
    },
    {
      "cell_type": "code",
      "source": [
        "from google.colab import drive\n",
        "drive.mount('/content/drive')"
      ],
      "metadata": {
        "colab": {
          "base_uri": "https://localhost:8080/"
        },
        "id": "AIq8ei-wHm9F",
        "outputId": "22db5084-df45-44a0-897c-7c8891ab8549"
      },
      "execution_count": 2,
      "outputs": [
        {
          "output_type": "stream",
          "name": "stdout",
          "text": [
            "Mounted at /content/drive\n"
          ]
        }
      ]
    },
    {
      "cell_type": "code",
      "source": [
        "summary = pd.read_csv('/content/drive/MyDrive/Colab Notebooks/news_summary.csv', encoding='iso-8859-1')\n",
        "raw = pd.read_csv('/content/drive/MyDrive/Colab Notebooks/news_summary_more.csv', encoding='iso-8859-1')"
      ],
      "metadata": {
        "_uuid": "d629ff2d2480ee46fbb7e2d37f6b5fab8052498a",
        "_cell_guid": "79c7e3d0-c299-4dcb-8224-4455121ee9b0",
        "execution": {
          "iopub.status.busy": "2022-07-22T05:39:26.691870Z",
          "iopub.execute_input": "2022-07-22T05:39:26.692292Z",
          "iopub.status.idle": "2022-07-22T05:39:27.185575Z",
          "shell.execute_reply.started": "2022-07-22T05:39:26.692119Z",
          "shell.execute_reply": "2022-07-22T05:39:27.184859Z"
        },
        "trusted": true,
        "id": "UJOXOa5UHXwt"
      },
      "execution_count": 58,
      "outputs": []
    },
    {
      "cell_type": "code",
      "source": [
        "pre1 =  raw.iloc[:,0:2].copy()\n",
        "# pre1['head + text'] = pre1['headlines'].str.cat(pre1['text'], sep =\" \") \n",
        "\n",
        "pre2 = summary.iloc[:,0:6].copy()\n",
        "pre2['text'] = pre2['author'].str.cat(pre2['date'].str.cat(pre2['read_more'].str.cat(pre2['text'].str.cat(pre2['ctext'], sep = \" \"), sep =\" \"),sep= \" \"), sep = \" \")"
      ],
      "metadata": {
        "execution": {
          "iopub.status.busy": "2022-07-22T05:39:27.187864Z",
          "iopub.execute_input": "2022-07-22T05:39:27.188279Z",
          "iopub.status.idle": "2022-07-22T05:39:27.247103Z",
          "shell.execute_reply.started": "2022-07-22T05:39:27.188113Z",
          "shell.execute_reply": "2022-07-22T05:39:27.246415Z"
        },
        "trusted": true,
        "id": "pfcSX_siHXwu"
      },
      "execution_count": 59,
      "outputs": []
    },
    {
      "cell_type": "code",
      "source": [
        "pre = pd.DataFrame()\n",
        "pre['text'] = pd.concat([pre1['text'], pre2['text']], ignore_index=True)\n",
        "pre['summary'] = pd.concat([pre1['headlines'],pre2['headlines']],ignore_index = True)"
      ],
      "metadata": {
        "execution": {
          "iopub.status.busy": "2022-07-22T05:39:27.248671Z",
          "iopub.execute_input": "2022-07-22T05:39:27.249157Z",
          "iopub.status.idle": "2022-07-22T05:39:27.299954Z",
          "shell.execute_reply.started": "2022-07-22T05:39:27.248982Z",
          "shell.execute_reply": "2022-07-22T05:39:27.299301Z"
        },
        "trusted": true,
        "id": "fYDXtSKqHXwv"
      },
      "execution_count": 60,
      "outputs": []
    },
    {
      "cell_type": "code",
      "source": [
        "pre.head(2)"
      ],
      "metadata": {
        "execution": {
          "iopub.status.busy": "2022-07-22T05:39:27.301527Z",
          "iopub.execute_input": "2022-07-22T05:39:27.302009Z",
          "iopub.status.idle": "2022-07-22T05:39:27.313134Z",
          "shell.execute_reply.started": "2022-07-22T05:39:27.301902Z",
          "shell.execute_reply": "2022-07-22T05:39:27.312383Z"
        },
        "trusted": true,
        "colab": {
          "base_uri": "https://localhost:8080/",
          "height": 112
        },
        "id": "UxlSDgmJHXww",
        "outputId": "4e6ca256-2812-451d-807b-c39e15eeeaea"
      },
      "execution_count": 61,
      "outputs": [
        {
          "output_type": "execute_result",
          "data": {
            "text/plain": [
              "                                                text  \\\n",
              "0  Saurav Kant, an alumnus of upGrad and IIIT-B's...   \n",
              "1  Kunal Shah's credit card bill payment platform...   \n",
              "\n",
              "                                             summary  \n",
              "0  upGrad learner switches to career in ML & Al w...  \n",
              "1  Delhi techie wins free food from Swiggy for on...  "
            ],
            "text/html": [
              "\n",
              "  <div id=\"df-17421a9e-4db4-4950-b135-ddd6627d8946\">\n",
              "    <div class=\"colab-df-container\">\n",
              "      <div>\n",
              "<style scoped>\n",
              "    .dataframe tbody tr th:only-of-type {\n",
              "        vertical-align: middle;\n",
              "    }\n",
              "\n",
              "    .dataframe tbody tr th {\n",
              "        vertical-align: top;\n",
              "    }\n",
              "\n",
              "    .dataframe thead th {\n",
              "        text-align: right;\n",
              "    }\n",
              "</style>\n",
              "<table border=\"1\" class=\"dataframe\">\n",
              "  <thead>\n",
              "    <tr style=\"text-align: right;\">\n",
              "      <th></th>\n",
              "      <th>text</th>\n",
              "      <th>summary</th>\n",
              "    </tr>\n",
              "  </thead>\n",
              "  <tbody>\n",
              "    <tr>\n",
              "      <th>0</th>\n",
              "      <td>Saurav Kant, an alumnus of upGrad and IIIT-B's...</td>\n",
              "      <td>upGrad learner switches to career in ML &amp; Al w...</td>\n",
              "    </tr>\n",
              "    <tr>\n",
              "      <th>1</th>\n",
              "      <td>Kunal Shah's credit card bill payment platform...</td>\n",
              "      <td>Delhi techie wins free food from Swiggy for on...</td>\n",
              "    </tr>\n",
              "  </tbody>\n",
              "</table>\n",
              "</div>\n",
              "      <button class=\"colab-df-convert\" onclick=\"convertToInteractive('df-17421a9e-4db4-4950-b135-ddd6627d8946')\"\n",
              "              title=\"Convert this dataframe to an interactive table.\"\n",
              "              style=\"display:none;\">\n",
              "        \n",
              "  <svg xmlns=\"http://www.w3.org/2000/svg\" height=\"24px\"viewBox=\"0 0 24 24\"\n",
              "       width=\"24px\">\n",
              "    <path d=\"M0 0h24v24H0V0z\" fill=\"none\"/>\n",
              "    <path d=\"M18.56 5.44l.94 2.06.94-2.06 2.06-.94-2.06-.94-.94-2.06-.94 2.06-2.06.94zm-11 1L8.5 8.5l.94-2.06 2.06-.94-2.06-.94L8.5 2.5l-.94 2.06-2.06.94zm10 10l.94 2.06.94-2.06 2.06-.94-2.06-.94-.94-2.06-.94 2.06-2.06.94z\"/><path d=\"M17.41 7.96l-1.37-1.37c-.4-.4-.92-.59-1.43-.59-.52 0-1.04.2-1.43.59L10.3 9.45l-7.72 7.72c-.78.78-.78 2.05 0 2.83L4 21.41c.39.39.9.59 1.41.59.51 0 1.02-.2 1.41-.59l7.78-7.78 2.81-2.81c.8-.78.8-2.07 0-2.86zM5.41 20L4 18.59l7.72-7.72 1.47 1.35L5.41 20z\"/>\n",
              "  </svg>\n",
              "      </button>\n",
              "      \n",
              "  <style>\n",
              "    .colab-df-container {\n",
              "      display:flex;\n",
              "      flex-wrap:wrap;\n",
              "      gap: 12px;\n",
              "    }\n",
              "\n",
              "    .colab-df-convert {\n",
              "      background-color: #E8F0FE;\n",
              "      border: none;\n",
              "      border-radius: 50%;\n",
              "      cursor: pointer;\n",
              "      display: none;\n",
              "      fill: #1967D2;\n",
              "      height: 32px;\n",
              "      padding: 0 0 0 0;\n",
              "      width: 32px;\n",
              "    }\n",
              "\n",
              "    .colab-df-convert:hover {\n",
              "      background-color: #E2EBFA;\n",
              "      box-shadow: 0px 1px 2px rgba(60, 64, 67, 0.3), 0px 1px 3px 1px rgba(60, 64, 67, 0.15);\n",
              "      fill: #174EA6;\n",
              "    }\n",
              "\n",
              "    [theme=dark] .colab-df-convert {\n",
              "      background-color: #3B4455;\n",
              "      fill: #D2E3FC;\n",
              "    }\n",
              "\n",
              "    [theme=dark] .colab-df-convert:hover {\n",
              "      background-color: #434B5C;\n",
              "      box-shadow: 0px 1px 3px 1px rgba(0, 0, 0, 0.15);\n",
              "      filter: drop-shadow(0px 1px 2px rgba(0, 0, 0, 0.3));\n",
              "      fill: #FFFFFF;\n",
              "    }\n",
              "  </style>\n",
              "\n",
              "      <script>\n",
              "        const buttonEl =\n",
              "          document.querySelector('#df-17421a9e-4db4-4950-b135-ddd6627d8946 button.colab-df-convert');\n",
              "        buttonEl.style.display =\n",
              "          google.colab.kernel.accessAllowed ? 'block' : 'none';\n",
              "\n",
              "        async function convertToInteractive(key) {\n",
              "          const element = document.querySelector('#df-17421a9e-4db4-4950-b135-ddd6627d8946');\n",
              "          const dataTable =\n",
              "            await google.colab.kernel.invokeFunction('convertToInteractive',\n",
              "                                                     [key], {});\n",
              "          if (!dataTable) return;\n",
              "\n",
              "          const docLinkHtml = 'Like what you see? Visit the ' +\n",
              "            '<a target=\"_blank\" href=https://colab.research.google.com/notebooks/data_table.ipynb>data table notebook</a>'\n",
              "            + ' to learn more about interactive tables.';\n",
              "          element.innerHTML = '';\n",
              "          dataTable['output_type'] = 'display_data';\n",
              "          await google.colab.output.renderOutput(dataTable, element);\n",
              "          const docLink = document.createElement('div');\n",
              "          docLink.innerHTML = docLinkHtml;\n",
              "          element.appendChild(docLink);\n",
              "        }\n",
              "      </script>\n",
              "    </div>\n",
              "  </div>\n",
              "  "
            ]
          },
          "metadata": {},
          "execution_count": 61
        }
      ]
    },
    {
      "cell_type": "markdown",
      "source": [
        "**Seq2Seq LSTM Modelling**\n",
        "![final.jpg](attachment:final.jpg)"
      ],
      "metadata": {
        "id": "DpdXRTmyHXwx"
      }
    },
    {
      "cell_type": "code",
      "source": [
        "#LSTM with Attention\n",
        "#pip install keras-self-attention\n",
        "len(pre['text'][0])"
      ],
      "metadata": {
        "execution": {
          "iopub.status.busy": "2022-07-22T05:39:27.316206Z",
          "iopub.execute_input": "2022-07-22T05:39:27.316643Z",
          "iopub.status.idle": "2022-07-22T05:39:27.323811Z",
          "shell.execute_reply.started": "2022-07-22T05:39:27.316595Z",
          "shell.execute_reply": "2022-07-22T05:39:27.322923Z"
        },
        "trusted": true,
        "colab": {
          "base_uri": "https://localhost:8080/"
        },
        "id": "sSGdR9iTHXwy",
        "outputId": "7d80649d-637c-488a-87f4-2358119d95d6"
      },
      "execution_count": 45,
      "outputs": [
        {
          "output_type": "execute_result",
          "data": {
            "text/plain": [
              "375"
            ]
          },
          "metadata": {},
          "execution_count": 45
        }
      ]
    },
    {
      "cell_type": "markdown",
      "source": [
        "> **Perform Data Cleansing**"
      ],
      "metadata": {
        "id": "dk0QhuLTHXw0"
      }
    },
    {
      "cell_type": "code",
      "source": [
        "#Preprocessing\n",
        "\n",
        "#This the dictionary used for expanding contractions\n",
        "contraction_mapping = {\"ain't\": \"is not\", \"aren't\": \"are not\",\"can't\": \"cannot\", \"'cause\": \"because\", \"could've\": \"could have\", \"couldn't\": \"could not\",\n",
        "\n",
        "                           \"didn't\": \"did not\", \"doesn't\": \"does not\", \"don't\": \"do not\", \"hadn't\": \"had not\", \"hasn't\": \"has not\", \"haven't\": \"have not\",\n",
        "\n",
        "                           \"he'd\": \"he would\",\"he'll\": \"he will\", \"he's\": \"he is\", \"how'd\": \"how did\", \"how'd'y\": \"how do you\", \"how'll\": \"how will\", \"how's\": \"how is\",\n",
        "\n",
        "                           \"I'd\": \"I would\", \"I'd've\": \"I would have\", \"I'll\": \"I will\", \"I'll've\": \"I will have\",\"I'm\": \"I am\", \"I've\": \"I have\", \"i'd\": \"i would\",\n",
        "\n",
        "                           \"i'd've\": \"i would have\", \"i'll\": \"i will\",  \"i'll've\": \"i will have\",\"i'm\": \"i am\", \"i've\": \"i have\", \"isn't\": \"is not\", \"it'd\": \"it would\",\n",
        "\n",
        "                           \"it'd've\": \"it would have\", \"it'll\": \"it will\", \"it'll've\": \"it will have\",\"it's\": \"it is\", \"let's\": \"let us\", \"ma'am\": \"madam\",\n",
        "\n",
        "                           \"mayn't\": \"may not\", \"might've\": \"might have\",\"mightn't\": \"might not\",\"mightn't've\": \"might not have\", \"must've\": \"must have\",\n",
        "\n",
        "                           \"mustn't\": \"must not\", \"mustn't've\": \"must not have\", \"needn't\": \"need not\", \"needn't've\": \"need not have\",\"o'clock\": \"of the clock\",\n",
        "\n",
        "                           \"oughtn't\": \"ought not\", \"oughtn't've\": \"ought not have\", \"shan't\": \"shall not\", \"sha'n't\": \"shall not\", \"shan't've\": \"shall not have\",\n",
        "\n",
        "                           \"she'd\": \"she would\", \"she'd've\": \"she would have\", \"she'll\": \"she will\", \"she'll've\": \"she will have\", \"she's\": \"she is\",\n",
        "\n",
        "                           \"should've\": \"should have\", \"shouldn't\": \"should not\", \"shouldn't've\": \"should not have\", \"so've\": \"so have\",\"so's\": \"so as\",\n",
        "\n",
        "                           \"this's\": \"this is\",\"that'd\": \"that would\", \"that'd've\": \"that would have\", \"that's\": \"that is\", \"there'd\": \"there would\",\n",
        "\n",
        "                           \"there'd've\": \"there would have\", \"there's\": \"there is\", \"here's\": \"here is\",\"they'd\": \"they would\", \"they'd've\": \"they would have\",\n",
        "\n",
        "                           \"they'll\": \"they will\", \"they'll've\": \"they will have\", \"they're\": \"they are\", \"they've\": \"they have\", \"to've\": \"to have\",\n",
        "\n",
        "                           \"wasn't\": \"was not\", \"we'd\": \"we would\", \"we'd've\": \"we would have\", \"we'll\": \"we will\", \"we'll've\": \"we will have\", \"we're\": \"we are\",\n",
        "\n",
        "                           \"we've\": \"we have\", \"weren't\": \"were not\", \"what'll\": \"what will\", \"what'll've\": \"what will have\", \"what're\": \"what are\",\n",
        "\n",
        "                           \"what's\": \"what is\", \"what've\": \"what have\", \"when's\": \"when is\", \"when've\": \"when have\", \"where'd\": \"where did\", \"where's\": \"where is\",\n",
        "\n",
        "                           \"where've\": \"where have\", \"who'll\": \"who will\", \"who'll've\": \"who will have\", \"who's\": \"who is\", \"who've\": \"who have\",\n",
        "\n",
        "                           \"why's\": \"why is\", \"why've\": \"why have\", \"will've\": \"will have\", \"won't\": \"will not\", \"won't've\": \"will not have\",\n",
        "\n",
        "                           \"would've\": \"would have\", \"wouldn't\": \"would not\", \"wouldn't've\": \"would not have\", \"y'all\": \"you all\",\n",
        "\n",
        "                           \"y'all'd\": \"you all would\",\"y'all'd've\": \"you all would have\",\"y'all're\": \"you all are\",\"y'all've\": \"you all have\",\n",
        "\n",
        "                           \"you'd\": \"you would\", \"you'd've\": \"you would have\", \"you'll\": \"you will\", \"you'll've\": \"you will have\",\n",
        "\n",
        "                           \"you're\": \"you are\", \"you've\": \"you have\"}"
      ],
      "metadata": {
        "id": "SeM3UaJYQesu"
      },
      "execution_count": 46,
      "outputs": []
    },
    {
      "cell_type": "code",
      "source": [
        "import re\n",
        "\n",
        "#Removes non-alphabetic characters:\n",
        "def text_strip(column):\n",
        "    for row in column:\n",
        "        \n",
        "        #ORDER OF REGEX IS VERY VERY IMPORTANT!!!!!!\n",
        "        \n",
        "        row=re.sub(\"(\\\\t)\", ' ', str(row)).lower() #remove escape charecters\n",
        "        row=re.sub(\"(\\\\r)\", ' ', str(row)).lower() \n",
        "        row=re.sub(\"(\\\\n)\", ' ', str(row)).lower()\n",
        "        \n",
        "        row=re.sub(\"(__+)\", ' ', str(row)).lower()   #remove _ if it occors more than one time consecutively\n",
        "        row=re.sub(\"(--+)\", ' ', str(row)).lower()   #remove - if it occors more than one time consecutively\n",
        "        row=re.sub(\"(~~+)\", ' ', str(row)).lower()   #remove ~ if it occors more than one time consecutively\n",
        "        row=re.sub(\"(\\+\\++)\", ' ', str(row)).lower()   #remove + if it occors more than one time consecutively\n",
        "        row=re.sub(\"(\\.\\.+)\", ' ', str(row)).lower()   #remove . if it occors more than one time consecutively\n",
        "        \n",
        "        row=re.sub(r\"[<>()|&©ø\\[\\]\\'\\\",;?~*!]\", ' ', str(row)).lower() #remove <>()|&©ø\"',;?~*!\n",
        "        \n",
        "        row=re.sub(\"(mailto:)\", ' ', str(row)).lower() #remove mailto:\n",
        "        row=re.sub(r\"(\\\\x9\\d)\", ' ', str(row)).lower() #remove \\x9* in text\n",
        "        row=re.sub(\"([iI][nN][cC]\\d+)\", 'INC_NUM', str(row)).lower() #replace INC nums to INC_NUM\n",
        "        row=re.sub(\"([cC][mM]\\d+)|([cC][hH][gG]\\d+)\", 'CM_NUM', str(row)).lower() #replace CM# and CHG# to CM_NUM\n",
        "        \n",
        "        \n",
        "        row=re.sub(\"(\\.\\s+)\", ' ', str(row)).lower() #remove full stop at end of words(not between)\n",
        "        row=re.sub(\"(\\-\\s+)\", ' ', str(row)).lower() #remove - at end of words(not between)\n",
        "        row=re.sub(\"(\\:\\s+)\", ' ', str(row)).lower() #remove : at end of words(not between)\n",
        "        \n",
        "        row=re.sub(\"(\\s+.\\s+)\", ' ', str(row)).lower() #remove any single charecters hanging between 2 spaces\n",
        "        \n",
        "        row = ' '.join([contraction_mapping[t] if t in contraction_mapping else t for t in row.split(\" \")])\n",
        "        #Replace any url as such https://abc.xyz.net/browse/sdf-5327 ====> abc.xyz.net\n",
        "        try:\n",
        "            url = re.search(r'((https*:\\/*)([^\\/\\s]+))(.[^\\s]+)', str(row))\n",
        "            repl_url = url.group(3)\n",
        "            row = re.sub(r'((https*:\\/*)([^\\/\\s]+))(.[^\\s]+)',repl_url, str(row))\n",
        "        except:\n",
        "            pass #there might be emails with no url in them\n",
        "        \n",
        "\n",
        "        \n",
        "        row = re.sub(\"(\\s+)\",' ',str(row)).lower() #remove multiple spaces\n",
        "        \n",
        "        #Should always be last\n",
        "        row=re.sub(\"(\\s+.\\s+)\", ' ', str(row)).lower() #remove any single charecters hanging between 2 spaces\n",
        "\n",
        "        \n",
        "        \n",
        "        yield row\n",
        "\n",
        "\n"
      ],
      "metadata": {
        "execution": {
          "iopub.status.busy": "2022-07-22T05:39:27.327087Z",
          "iopub.execute_input": "2022-07-22T05:39:27.327537Z",
          "iopub.status.idle": "2022-07-22T05:39:27.350386Z",
          "shell.execute_reply.started": "2022-07-22T05:39:27.327478Z",
          "shell.execute_reply": "2022-07-22T05:39:27.349675Z"
        },
        "trusted": true,
        "id": "jTFmh5bPHXw2"
      },
      "execution_count": 47,
      "outputs": []
    },
    {
      "cell_type": "code",
      "source": [
        "brief_cleaning1 = text_strip(pre['text'])\n",
        "brief_cleaning2 = text_strip(pre['summary'])"
      ],
      "metadata": {
        "execution": {
          "iopub.status.busy": "2022-07-22T05:39:27.351753Z",
          "iopub.execute_input": "2022-07-22T05:39:27.352408Z",
          "iopub.status.idle": "2022-07-22T05:39:27.359743Z",
          "shell.execute_reply.started": "2022-07-22T05:39:27.352356Z",
          "shell.execute_reply": "2022-07-22T05:39:27.358935Z"
        },
        "trusted": true,
        "id": "8zwqhVVaHXw5"
      },
      "execution_count": 62,
      "outputs": []
    },
    {
      "cell_type": "code",
      "source": [
        "from time import time\n",
        "import spacy\n",
        "nlp = spacy.load('en_core_web_sm', disable=['ner', 'parser']) # disabling Named Entity Recognition for speed\n",
        "\n",
        "#Taking advantage of spaCy .pipe() method to speed-up the cleaning process:\n",
        "#If data loss seems to be happening(i.e len(text) = 50 instead of 75 etc etc) in this cell , decrease the batch_size parametre \n",
        "\n",
        "t = time()\n",
        "\n",
        "#Batch the data points into 5000 and run on all cores for faster preprocessing\n",
        "text = [str(doc) for doc in nlp.pipe(brief_cleaning1, batch_size=1000,  n_process=-1)]\n",
        "\n",
        "#Takes 7-8 mins\n",
        "print('Time to clean up everything: {} mins'.format(round((time() - t) / 60, 2)))"
      ],
      "metadata": {
        "execution": {
          "iopub.status.busy": "2022-07-22T05:39:27.361106Z",
          "iopub.execute_input": "2022-07-22T05:39:27.361579Z",
          "iopub.status.idle": "2022-07-22T05:47:11.366899Z",
          "shell.execute_reply.started": "2022-07-22T05:39:27.361527Z",
          "shell.execute_reply": "2022-07-22T05:47:11.366079Z"
        },
        "trusted": true,
        "colab": {
          "base_uri": "https://localhost:8080/"
        },
        "id": "hUgdbBLdHXw6",
        "outputId": "5e99f30b-bc19-4b23-eebf-5cebe4b26f97"
      },
      "execution_count": 63,
      "outputs": [
        {
          "metadata": {
            "tags": null
          },
          "name": "stdout",
          "output_type": "stream",
          "text": [
            "Time to clean up everything: 10.53 mins\n"
          ]
        }
      ]
    },
    {
      "cell_type": "code",
      "source": [
        "#Taking advantage of spaCy .pipe() method to speed-up the cleaning process:\n",
        "\n",
        "\n",
        "t = time()\n",
        "\n",
        "#Batch the data points into 5000 and run on all cores for faster preprocessing\n",
        "summary = ['_START_ '+ str(doc) + ' _END_' for doc in nlp.pipe(brief_cleaning2, batch_size=1000, n_process=-1)]\n",
        "\n",
        "#Takes 7-8 mins\n",
        "print('Time to clean up everything: {} mins'.format(round((time() - t) / 60, 2)))"
      ],
      "metadata": {
        "execution": {
          "iopub.status.busy": "2022-07-22T05:47:11.369498Z",
          "iopub.execute_input": "2022-07-22T05:47:11.369966Z",
          "iopub.status.idle": "2022-07-22T05:49:30.473327Z",
          "shell.execute_reply.started": "2022-07-22T05:47:11.369915Z",
          "shell.execute_reply": "2022-07-22T05:49:30.471829Z"
        },
        "trusted": true,
        "colab": {
          "base_uri": "https://localhost:8080/"
        },
        "id": "g7dPOU0QHXw8",
        "outputId": "4c65eca4-28dc-4e4e-ee62-6508dfe11d29"
      },
      "execution_count": 65,
      "outputs": [
        {
          "metadata": {
            "tags": null
          },
          "name": "stdout",
          "output_type": "stream",
          "text": [
            "Time to clean up everything: 2.92 mins\n"
          ]
        }
      ]
    },
    {
      "cell_type": "code",
      "source": [
        "text[0]"
      ],
      "metadata": {
        "execution": {
          "iopub.status.busy": "2022-07-22T05:49:30.475160Z",
          "iopub.execute_input": "2022-07-22T05:49:30.475953Z",
          "iopub.status.idle": "2022-07-22T05:49:30.482483Z",
          "shell.execute_reply.started": "2022-07-22T05:49:30.475901Z",
          "shell.execute_reply": "2022-07-22T05:49:30.481751Z"
        },
        "trusted": true,
        "colab": {
          "base_uri": "https://localhost:8080/",
          "height": 70
        },
        "id": "ds7Vg-UVHXw8",
        "outputId": "29d8970e-4f0a-4d3e-a45a-2daee97c53aa"
      },
      "execution_count": 66,
      "outputs": [
        {
          "output_type": "execute_result",
          "data": {
            "text/plain": [
              "'saurav kant an alumnus of upgrad and iiit-b pg program in machine learning and artificial intelligence was sr systems engineer at infosys with almost years of work experience the program and upgrad 360-degree career support helped him transition to data scientist at tech mahindra with 90% salary hike upgrad online power learning has powered lakh+ careers.'"
            ],
            "application/vnd.google.colaboratory.intrinsic+json": {
              "type": "string"
            }
          },
          "metadata": {},
          "execution_count": 66
        }
      ]
    },
    {
      "cell_type": "code",
      "source": [
        "summary[0]"
      ],
      "metadata": {
        "execution": {
          "iopub.status.busy": "2022-07-22T05:49:30.484208Z",
          "iopub.execute_input": "2022-07-22T05:49:30.484999Z",
          "iopub.status.idle": "2022-07-22T05:49:30.492151Z",
          "shell.execute_reply.started": "2022-07-22T05:49:30.484947Z",
          "shell.execute_reply": "2022-07-22T05:49:30.491348Z"
        },
        "trusted": true,
        "colab": {
          "base_uri": "https://localhost:8080/",
          "height": 35
        },
        "id": "0u630yQGHXw_",
        "outputId": "a644ce3e-9d78-4d04-98bc-2c7a05c913b4"
      },
      "execution_count": 67,
      "outputs": [
        {
          "output_type": "execute_result",
          "data": {
            "text/plain": [
              "'_START_ upgrad learner switches to career in ml al with 90% salary hike _END_'"
            ],
            "application/vnd.google.colaboratory.intrinsic+json": {
              "type": "string"
            }
          },
          "metadata": {},
          "execution_count": 67
        }
      ]
    },
    {
      "cell_type": "code",
      "source": [
        "pre['cleaned_text'] = pd.Series(text)\n",
        "pre['cleaned_summary'] = pd.Series(summary)"
      ],
      "metadata": {
        "execution": {
          "iopub.status.busy": "2022-07-22T05:49:30.493977Z",
          "iopub.execute_input": "2022-07-22T05:49:30.494867Z",
          "iopub.status.idle": "2022-07-22T05:49:30.561363Z",
          "shell.execute_reply.started": "2022-07-22T05:49:30.494818Z",
          "shell.execute_reply": "2022-07-22T05:49:30.560617Z"
        },
        "trusted": true,
        "id": "qAOVaMjCHXxA"
      },
      "execution_count": 68,
      "outputs": []
    },
    {
      "cell_type": "code",
      "source": [
        "text_count = []\n",
        "summary_count = []"
      ],
      "metadata": {
        "execution": {
          "iopub.status.busy": "2022-07-22T05:49:30.563017Z",
          "iopub.execute_input": "2022-07-22T05:49:30.563780Z",
          "iopub.status.idle": "2022-07-22T05:49:30.569248Z",
          "shell.execute_reply.started": "2022-07-22T05:49:30.563731Z",
          "shell.execute_reply": "2022-07-22T05:49:30.568532Z"
        },
        "trusted": true,
        "id": "tx2GxcVAHXxA"
      },
      "execution_count": 69,
      "outputs": []
    },
    {
      "cell_type": "code",
      "source": [
        "for sent in pre['cleaned_text']:\n",
        "    text_count.append(len(sent.split()))\n",
        "for sent in pre['cleaned_summary']:\n",
        "    summary_count.append(len(sent.split()))"
      ],
      "metadata": {
        "execution": {
          "iopub.status.busy": "2022-07-22T05:49:30.571067Z",
          "iopub.execute_input": "2022-07-22T05:49:30.571926Z",
          "iopub.status.idle": "2022-07-22T05:49:31.251402Z",
          "shell.execute_reply.started": "2022-07-22T05:49:30.571874Z",
          "shell.execute_reply": "2022-07-22T05:49:31.250650Z"
        },
        "trusted": true,
        "id": "--OXacguHXxB"
      },
      "execution_count": 70,
      "outputs": []
    },
    {
      "cell_type": "code",
      "source": [
        "graph_df= pd.DataFrame()\n",
        "graph_df['text']=text_count\n",
        "graph_df['summary']=summary_count"
      ],
      "metadata": {
        "execution": {
          "iopub.status.busy": "2022-07-22T05:49:31.253471Z",
          "iopub.execute_input": "2022-07-22T05:49:31.253707Z",
          "iopub.status.idle": "2022-07-22T05:49:31.405342Z",
          "shell.execute_reply.started": "2022-07-22T05:49:31.253665Z",
          "shell.execute_reply": "2022-07-22T05:49:31.404635Z"
        },
        "trusted": true,
        "id": "ACpp2OAHHXxB"
      },
      "execution_count": 71,
      "outputs": []
    },
    {
      "cell_type": "code",
      "source": [
        "import matplotlib.pyplot as plt\n",
        "\n",
        "graph_df.hist(bins = 5)\n",
        "plt.show()"
      ],
      "metadata": {
        "colab": {
          "base_uri": "https://localhost:8080/",
          "height": 281
        },
        "id": "bYJyT4kNdbxh",
        "outputId": "05fff0f9-27b5-4119-e0c5-89b3a2f3366e"
      },
      "execution_count": 72,
      "outputs": [
        {
          "output_type": "display_data",
          "data": {
            "text/plain": [
              "<Figure size 432x288 with 2 Axes>"
            ],
            "image/png": "[encoded data removed]"
          },
          "metadata": {
            "needs_background": "light"
          }
        }
      ]
    },
    {
      "cell_type": "code",
      "source": [
        "import matplotlib.pyplot as plt\n",
        "\n",
        "graph_df.hist(bins = 5)\n",
        "plt.show()"
      ],
      "metadata": {
        "execution": {
          "iopub.status.busy": "2022-07-22T05:49:31.407237Z",
          "iopub.execute_input": "2022-07-22T05:49:31.407655Z",
          "iopub.status.idle": "2022-07-22T05:49:31.651402Z",
          "shell.execute_reply.started": "2022-07-22T05:49:31.407485Z",
          "shell.execute_reply": "2022-07-22T05:49:31.650575Z"
        },
        "trusted": true,
        "colab": {
          "base_uri": "https://localhost:8080/",
          "height": 281
        },
        "id": "Fh1ER4j6HXxB",
        "outputId": "d7cdf7ae-2600-418f-d5ba-ea1a7d362e67"
      },
      "execution_count": 73,
      "outputs": [
        {
          "output_type": "display_data",
          "data": {
            "text/plain": [
              "<Figure size 432x288 with 2 Axes>"
            ],
            "image/png": "[encoded data removed]"
          },
          "metadata": {
            "needs_background": "light"
          }
        }
      ]
    },
    {
      "cell_type": "code",
      "source": [
        "#Check how much % of summary have 0-15 words\n",
        "cnt=0\n",
        "for i in pre['cleaned_summary']:\n",
        "    if(len(i.split())<=15):\n",
        "        cnt=cnt+1\n",
        "print(cnt/len(pre['cleaned_summary']))"
      ],
      "metadata": {
        "execution": {
          "iopub.status.busy": "2022-07-22T05:49:31.653094Z",
          "iopub.execute_input": "2022-07-22T05:49:31.653518Z",
          "iopub.status.idle": "2022-07-22T05:49:31.796647Z",
          "shell.execute_reply.started": "2022-07-22T05:49:31.653340Z",
          "shell.execute_reply": "2022-07-22T05:49:31.795937Z"
        },
        "trusted": true,
        "colab": {
          "base_uri": "https://localhost:8080/"
        },
        "id": "5ktu0qSbHXxC",
        "outputId": "e3dc5f7f-0998-4436-e7a0-714a29c694ad"
      },
      "execution_count": 74,
      "outputs": [
        {
          "output_type": "stream",
          "name": "stdout",
          "text": [
            "0.9978234465335472\n"
          ]
        }
      ]
    },
    {
      "cell_type": "code",
      "source": [
        "#Check how much % of text have 0-70 words\n",
        "cnt=0\n",
        "for i in pre['cleaned_text']:\n",
        "    if(len(i.split())<=100):\n",
        "        cnt=cnt+1\n",
        "print(cnt/len(pre['cleaned_text']))"
      ],
      "metadata": {
        "execution": {
          "iopub.status.busy": "2022-07-22T05:49:31.797903Z",
          "iopub.execute_input": "2022-07-22T05:49:31.798400Z",
          "iopub.status.idle": "2022-07-22T05:49:32.337611Z",
          "shell.execute_reply.started": "2022-07-22T05:49:31.798346Z",
          "shell.execute_reply": "2022-07-22T05:49:32.336856Z"
        },
        "trusted": true,
        "colab": {
          "base_uri": "https://localhost:8080/"
        },
        "id": "4jkLlVJ6HXxD",
        "outputId": "2c438395-91c4-46cb-c36c-d948ff587d25"
      },
      "execution_count": 75,
      "outputs": [
        {
          "output_type": "stream",
          "name": "stdout",
          "text": [
            "0.9578389933440218\n"
          ]
        }
      ]
    },
    {
      "cell_type": "code",
      "source": [
        "#Model to summarize the text between 0-15 words for Summary and 0-100 words for Text\n",
        "max_text_len=100\n",
        "max_summary_len=15"
      ],
      "metadata": {
        "execution": {
          "iopub.status.busy": "2022-07-22T05:49:32.339263Z",
          "iopub.execute_input": "2022-07-22T05:49:32.340016Z",
          "iopub.status.idle": "2022-07-22T05:49:32.345269Z",
          "shell.execute_reply.started": "2022-07-22T05:49:32.339892Z",
          "shell.execute_reply": "2022-07-22T05:49:32.344532Z"
        },
        "trusted": true,
        "id": "86t3dWQ5HXxD"
      },
      "execution_count": 76,
      "outputs": []
    },
    {
      "cell_type": "code",
      "source": [
        "#Select the Summaries and Text between max len defined above\n",
        "\n",
        "cleaned_text =np.array(pre['cleaned_text'])\n",
        "cleaned_summary=np.array(pre['cleaned_summary'])\n",
        "\n",
        "short_text=[]\n",
        "short_summary=[]\n",
        "\n",
        "for i in range(len(cleaned_text)):\n",
        "    if(len(cleaned_summary[i].split())<=max_summary_len and len(cleaned_text[i].split())<=max_text_len):\n",
        "        short_text.append(cleaned_text[i])\n",
        "        short_summary.append(cleaned_summary[i])\n",
        "        \n",
        "post_pre=pd.DataFrame({'text':short_text,'summary':short_summary})"
      ],
      "metadata": {
        "execution": {
          "iopub.status.busy": "2022-07-22T05:49:32.346869Z",
          "iopub.execute_input": "2022-07-22T05:49:32.347668Z",
          "iopub.status.idle": "2022-07-22T05:49:33.105124Z",
          "shell.execute_reply.started": "2022-07-22T05:49:32.347616Z",
          "shell.execute_reply": "2022-07-22T05:49:33.104243Z"
        },
        "trusted": true,
        "id": "GHqp1bdfHXxD"
      },
      "execution_count": 77,
      "outputs": []
    },
    {
      "cell_type": "code",
      "source": [
        "post_pre.head(2)"
      ],
      "metadata": {
        "execution": {
          "iopub.status.busy": "2022-07-22T05:49:33.106949Z",
          "iopub.execute_input": "2022-07-22T05:49:33.107252Z",
          "iopub.status.idle": "2022-07-22T05:49:33.119935Z",
          "shell.execute_reply.started": "2022-07-22T05:49:33.107203Z",
          "shell.execute_reply": "2022-07-22T05:49:33.119160Z"
        },
        "trusted": true,
        "colab": {
          "base_uri": "https://localhost:8080/",
          "height": 112
        },
        "id": "B-4LMjSwHXxE",
        "outputId": "262dad65-4e7f-48ab-a225-998132b5a355"
      },
      "execution_count": 78,
      "outputs": [
        {
          "output_type": "execute_result",
          "data": {
            "text/plain": [
              "                                                text  \\\n",
              "0  saurav kant an alumnus of upgrad and iiit-b pg...   \n",
              "1  kunal shah credit card bill payment platform c...   \n",
              "\n",
              "                                             summary  \n",
              "0  _START_ upgrad learner switches to career in m...  \n",
              "1  _START_ delhi techie wins free food from swigg...  "
            ],
            "text/html": [
              "\n",
              "  <div id=\"df-6095a01b-562e-44c9-8008-60311e0220a9\">\n",
              "    <div class=\"colab-df-container\">\n",
              "      <div>\n",
              "<style scoped>\n",
              "    .dataframe tbody tr th:only-of-type {\n",
              "        vertical-align: middle;\n",
              "    }\n",
              "\n",
              "    .dataframe tbody tr th {\n",
              "        vertical-align: top;\n",
              "    }\n",
              "\n",
              "    .dataframe thead th {\n",
              "        text-align: right;\n",
              "    }\n",
              "</style>\n",
              "<table border=\"1\" class=\"dataframe\">\n",
              "  <thead>\n",
              "    <tr style=\"text-align: right;\">\n",
              "      <th></th>\n",
              "      <th>text</th>\n",
              "      <th>summary</th>\n",
              "    </tr>\n",
              "  </thead>\n",
              "  <tbody>\n",
              "    <tr>\n",
              "      <th>0</th>\n",
              "      <td>saurav kant an alumnus of upgrad and iiit-b pg...</td>\n",
              "      <td>_START_ upgrad learner switches to career in m...</td>\n",
              "    </tr>\n",
              "    <tr>\n",
              "      <th>1</th>\n",
              "      <td>kunal shah credit card bill payment platform c...</td>\n",
              "      <td>_START_ delhi techie wins free food from swigg...</td>\n",
              "    </tr>\n",
              "  </tbody>\n",
              "</table>\n",
              "</div>\n",
              "      <button class=\"colab-df-convert\" onclick=\"convertToInteractive('df-6095a01b-562e-44c9-8008-60311e0220a9')\"\n",
              "              title=\"Convert this dataframe to an interactive table.\"\n",
              "              style=\"display:none;\">\n",
              "        \n",
              "  <svg xmlns=\"http://www.w3.org/2000/svg\" height=\"24px\"viewBox=\"0 0 24 24\"\n",
              "       width=\"24px\">\n",
              "    <path d=\"M0 0h24v24H0V0z\" fill=\"none\"/>\n",
              "    <path d=\"M18.56 5.44l.94 2.06.94-2.06 2.06-.94-2.06-.94-.94-2.06-.94 2.06-2.06.94zm-11 1L8.5 8.5l.94-2.06 2.06-.94-2.06-.94L8.5 2.5l-.94 2.06-2.06.94zm10 10l.94 2.06.94-2.06 2.06-.94-2.06-.94-.94-2.06-.94 2.06-2.06.94z\"/><path d=\"M17.41 7.96l-1.37-1.37c-.4-.4-.92-.59-1.43-.59-.52 0-1.04.2-1.43.59L10.3 9.45l-7.72 7.72c-.78.78-.78 2.05 0 2.83L4 21.41c.39.39.9.59 1.41.59.51 0 1.02-.2 1.41-.59l7.78-7.78 2.81-2.81c.8-.78.8-2.07 0-2.86zM5.41 20L4 18.59l7.72-7.72 1.47 1.35L5.41 20z\"/>\n",
              "  </svg>\n",
              "      </button>\n",
              "      \n",
              "  <style>\n",
              "    .colab-df-container {\n",
              "      display:flex;\n",
              "      flex-wrap:wrap;\n",
              "      gap: 12px;\n",
              "    }\n",
              "\n",
              "    .colab-df-convert {\n",
              "      background-color: #E8F0FE;\n",
              "      border: none;\n",
              "      border-radius: 50%;\n",
              "      cursor: pointer;\n",
              "      display: none;\n",
              "      fill: #1967D2;\n",
              "      height: 32px;\n",
              "      padding: 0 0 0 0;\n",
              "      width: 32px;\n",
              "    }\n",
              "\n",
              "    .colab-df-convert:hover {\n",
              "      background-color: #E2EBFA;\n",
              "      box-shadow: 0px 1px 2px rgba(60, 64, 67, 0.3), 0px 1px 3px 1px rgba(60, 64, 67, 0.15);\n",
              "      fill: #174EA6;\n",
              "    }\n",
              "\n",
              "    [theme=dark] .colab-df-convert {\n",
              "      background-color: #3B4455;\n",
              "      fill: #D2E3FC;\n",
              "    }\n",
              "\n",
              "    [theme=dark] .colab-df-convert:hover {\n",
              "      background-color: #434B5C;\n",
              "      box-shadow: 0px 1px 3px 1px rgba(0, 0, 0, 0.15);\n",
              "      filter: drop-shadow(0px 1px 2px rgba(0, 0, 0, 0.3));\n",
              "      fill: #FFFFFF;\n",
              "    }\n",
              "  </style>\n",
              "\n",
              "      <script>\n",
              "        const buttonEl =\n",
              "          document.querySelector('#df-6095a01b-562e-44c9-8008-60311e0220a9 button.colab-df-convert');\n",
              "        buttonEl.style.display =\n",
              "          google.colab.kernel.accessAllowed ? 'block' : 'none';\n",
              "\n",
              "        async function convertToInteractive(key) {\n",
              "          const element = document.querySelector('#df-6095a01b-562e-44c9-8008-60311e0220a9');\n",
              "          const dataTable =\n",
              "            await google.colab.kernel.invokeFunction('convertToInteractive',\n",
              "                                                     [key], {});\n",
              "          if (!dataTable) return;\n",
              "\n",
              "          const docLinkHtml = 'Like what you see? Visit the ' +\n",
              "            '<a target=\"_blank\" href=https://colab.research.google.com/notebooks/data_table.ipynb>data table notebook</a>'\n",
              "            + ' to learn more about interactive tables.';\n",
              "          element.innerHTML = '';\n",
              "          dataTable['output_type'] = 'display_data';\n",
              "          await google.colab.output.renderOutput(dataTable, element);\n",
              "          const docLink = document.createElement('div');\n",
              "          docLink.innerHTML = docLinkHtml;\n",
              "          element.appendChild(docLink);\n",
              "        }\n",
              "      </script>\n",
              "    </div>\n",
              "  </div>\n",
              "  "
            ]
          },
          "metadata": {},
          "execution_count": 78
        }
      ]
    },
    {
      "cell_type": "code",
      "source": [
        "#Add sostok and eostok at \n",
        "post_pre['summary'] = post_pre['summary'].apply(lambda x : 'sostok '+ x + ' eostok')\n"
      ],
      "metadata": {
        "execution": {
          "iopub.status.busy": "2022-07-22T05:49:33.121769Z",
          "iopub.execute_input": "2022-07-22T05:49:33.122553Z",
          "iopub.status.idle": "2022-07-22T05:49:33.206420Z",
          "shell.execute_reply.started": "2022-07-22T05:49:33.122488Z",
          "shell.execute_reply": "2022-07-22T05:49:33.205773Z"
        },
        "trusted": true,
        "id": "yrYTXtKNHXxE"
      },
      "execution_count": 79,
      "outputs": []
    },
    {
      "cell_type": "code",
      "source": [
        "post_pre.head(2)"
      ],
      "metadata": {
        "execution": {
          "iopub.status.busy": "2022-07-22T05:49:33.208385Z",
          "iopub.execute_input": "2022-07-22T05:49:33.209202Z",
          "iopub.status.idle": "2022-07-22T05:49:33.220896Z",
          "shell.execute_reply.started": "2022-07-22T05:49:33.209150Z",
          "shell.execute_reply": "2022-07-22T05:49:33.220169Z"
        },
        "trusted": true,
        "colab": {
          "base_uri": "https://localhost:8080/",
          "height": 112
        },
        "id": "5ejSYxh4HXxE",
        "outputId": "ea5ec5ca-1ce5-4ceb-f6ba-3ce024c6314f"
      },
      "execution_count": 80,
      "outputs": [
        {
          "output_type": "execute_result",
          "data": {
            "text/plain": [
              "                                                text  \\\n",
              "0  saurav kant an alumnus of upgrad and iiit-b pg...   \n",
              "1  kunal shah credit card bill payment platform c...   \n",
              "\n",
              "                                             summary  \n",
              "0  sostok _START_ upgrad learner switches to care...  \n",
              "1  sostok _START_ delhi techie wins free food fro...  "
            ],
            "text/html": [
              "\n",
              "  <div id=\"df-46cf53f3-36d7-4b8c-8175-ae2a183815ac\">\n",
              "    <div class=\"colab-df-container\">\n",
              "      <div>\n",
              "<style scoped>\n",
              "    .dataframe tbody tr th:only-of-type {\n",
              "        vertical-align: middle;\n",
              "    }\n",
              "\n",
              "    .dataframe tbody tr th {\n",
              "        vertical-align: top;\n",
              "    }\n",
              "\n",
              "    .dataframe thead th {\n",
              "        text-align: right;\n",
              "    }\n",
              "</style>\n",
              "<table border=\"1\" class=\"dataframe\">\n",
              "  <thead>\n",
              "    <tr style=\"text-align: right;\">\n",
              "      <th></th>\n",
              "      <th>text</th>\n",
              "      <th>summary</th>\n",
              "    </tr>\n",
              "  </thead>\n",
              "  <tbody>\n",
              "    <tr>\n",
              "      <th>0</th>\n",
              "      <td>saurav kant an alumnus of upgrad and iiit-b pg...</td>\n",
              "      <td>sostok _START_ upgrad learner switches to care...</td>\n",
              "    </tr>\n",
              "    <tr>\n",
              "      <th>1</th>\n",
              "      <td>kunal shah credit card bill payment platform c...</td>\n",
              "      <td>sostok _START_ delhi techie wins free food fro...</td>\n",
              "    </tr>\n",
              "  </tbody>\n",
              "</table>\n",
              "</div>\n",
              "      <button class=\"colab-df-convert\" onclick=\"convertToInteractive('df-46cf53f3-36d7-4b8c-8175-ae2a183815ac')\"\n",
              "              title=\"Convert this dataframe to an interactive table.\"\n",
              "              style=\"display:none;\">\n",
              "        \n",
              "  <svg xmlns=\"http://www.w3.org/2000/svg\" height=\"24px\"viewBox=\"0 0 24 24\"\n",
              "       width=\"24px\">\n",
              "    <path d=\"M0 0h24v24H0V0z\" fill=\"none\"/>\n",
              "    <path d=\"M18.56 5.44l.94 2.06.94-2.06 2.06-.94-2.06-.94-.94-2.06-.94 2.06-2.06.94zm-11 1L8.5 8.5l.94-2.06 2.06-.94-2.06-.94L8.5 2.5l-.94 2.06-2.06.94zm10 10l.94 2.06.94-2.06 2.06-.94-2.06-.94-.94-2.06-.94 2.06-2.06.94z\"/><path d=\"M17.41 7.96l-1.37-1.37c-.4-.4-.92-.59-1.43-.59-.52 0-1.04.2-1.43.59L10.3 9.45l-7.72 7.72c-.78.78-.78 2.05 0 2.83L4 21.41c.39.39.9.59 1.41.59.51 0 1.02-.2 1.41-.59l7.78-7.78 2.81-2.81c.8-.78.8-2.07 0-2.86zM5.41 20L4 18.59l7.72-7.72 1.47 1.35L5.41 20z\"/>\n",
              "  </svg>\n",
              "      </button>\n",
              "      \n",
              "  <style>\n",
              "    .colab-df-container {\n",
              "      display:flex;\n",
              "      flex-wrap:wrap;\n",
              "      gap: 12px;\n",
              "    }\n",
              "\n",
              "    .colab-df-convert {\n",
              "      background-color: #E8F0FE;\n",
              "      border: none;\n",
              "      border-radius: 50%;\n",
              "      cursor: pointer;\n",
              "      display: none;\n",
              "      fill: #1967D2;\n",
              "      height: 32px;\n",
              "      padding: 0 0 0 0;\n",
              "      width: 32px;\n",
              "    }\n",
              "\n",
              "    .colab-df-convert:hover {\n",
              "      background-color: #E2EBFA;\n",
              "      box-shadow: 0px 1px 2px rgba(60, 64, 67, 0.3), 0px 1px 3px 1px rgba(60, 64, 67, 0.15);\n",
              "      fill: #174EA6;\n",
              "    }\n",
              "\n",
              "    [theme=dark] .colab-df-convert {\n",
              "      background-color: #3B4455;\n",
              "      fill: #D2E3FC;\n",
              "    }\n",
              "\n",
              "    [theme=dark] .colab-df-convert:hover {\n",
              "      background-color: #434B5C;\n",
              "      box-shadow: 0px 1px 3px 1px rgba(0, 0, 0, 0.15);\n",
              "      filter: drop-shadow(0px 1px 2px rgba(0, 0, 0, 0.3));\n",
              "      fill: #FFFFFF;\n",
              "    }\n",
              "  </style>\n",
              "\n",
              "      <script>\n",
              "        const buttonEl =\n",
              "          document.querySelector('#df-46cf53f3-36d7-4b8c-8175-ae2a183815ac button.colab-df-convert');\n",
              "        buttonEl.style.display =\n",
              "          google.colab.kernel.accessAllowed ? 'block' : 'none';\n",
              "\n",
              "        async function convertToInteractive(key) {\n",
              "          const element = document.querySelector('#df-46cf53f3-36d7-4b8c-8175-ae2a183815ac');\n",
              "          const dataTable =\n",
              "            await google.colab.kernel.invokeFunction('convertToInteractive',\n",
              "                                                     [key], {});\n",
              "          if (!dataTable) return;\n",
              "\n",
              "          const docLinkHtml = 'Like what you see? Visit the ' +\n",
              "            '<a target=\"_blank\" href=https://colab.research.google.com/notebooks/data_table.ipynb>data table notebook</a>'\n",
              "            + ' to learn more about interactive tables.';\n",
              "          element.innerHTML = '';\n",
              "          dataTable['output_type'] = 'display_data';\n",
              "          await google.colab.output.renderOutput(dataTable, element);\n",
              "          const docLink = document.createElement('div');\n",
              "          docLink.innerHTML = docLinkHtml;\n",
              "          element.appendChild(docLink);\n",
              "        }\n",
              "      </script>\n",
              "    </div>\n",
              "  </div>\n",
              "  "
            ]
          },
          "metadata": {},
          "execution_count": 80
        }
      ]
    },
    {
      "cell_type": "markdown",
      "source": [
        "**SEQ2SEQ MODEL BUILDING **"
      ],
      "metadata": {
        "id": "V-e2UtiKHXxF"
      }
    },
    {
      "cell_type": "markdown",
      "source": [
        "Split the data to TRAIN and VALIDATION sets"
      ],
      "metadata": {
        "id": "Ev4QNAVpHXxF"
      }
    },
    {
      "cell_type": "code",
      "source": [
        "from sklearn.model_selection import train_test_split\n",
        "x_tr,x_val,y_tr,y_val=train_test_split(np.array(post_pre['text']),np.array(post_pre['summary']),test_size=0.1,random_state=0,shuffle=True)"
      ],
      "metadata": {
        "execution": {
          "iopub.status.busy": "2022-07-22T05:49:33.222484Z",
          "iopub.execute_input": "2022-07-22T05:49:33.223264Z",
          "iopub.status.idle": "2022-07-22T05:49:33.277057Z",
          "shell.execute_reply.started": "2022-07-22T05:49:33.223215Z",
          "shell.execute_reply": "2022-07-22T05:49:33.276299Z"
        },
        "trusted": true,
        "id": "Ok-WmIK3HXxF"
      },
      "execution_count": 81,
      "outputs": []
    },
    {
      "cell_type": "code",
      "source": [
        "!pip install keras_preprocessing"
      ],
      "metadata": {
        "colab": {
          "base_uri": "https://localhost:8080/"
        },
        "id": "5e_2FlfGdrlc",
        "outputId": "a43e75fe-ac27-4e9a-8174-91203d827f1a"
      },
      "execution_count": 84,
      "outputs": [
        {
          "output_type": "stream",
          "name": "stdout",
          "text": [
            "Looking in indexes: https://pypi.org/simple, https://us-python.pkg.dev/colab-wheels/public/simple/\n",
            "Collecting keras_preprocessing\n",
            "  Downloading Keras_Preprocessing-1.1.2-py2.py3-none-any.whl (42 kB)\n",
            "\u001b[2K     \u001b[90m━━━━━━━━━━━━━━━━━━━━━━━━━━━━━━━━━━━━━━━━\u001b[0m \u001b[32m42.6/42.6 KB\u001b[0m \u001b[31m2.4 MB/s\u001b[0m eta \u001b[36m0:00:00\u001b[0m\n",
            "\u001b[?25hRequirement already satisfied: six>=1.9.0 in /usr/local/lib/python3.8/dist-packages (from keras_preprocessing) (1.15.0)\n",
            "Requirement already satisfied: numpy>=1.9.1 in /usr/local/lib/python3.8/dist-packages (from keras_preprocessing) (1.21.6)\n",
            "Installing collected packages: keras_preprocessing\n",
            "Successfully installed keras_preprocessing-1.1.2\n"
          ]
        }
      ]
    },
    {
      "cell_type": "code",
      "source": [
        "#Lets tokenize the text to get the vocab count , you can use Spacy here also\n",
        "\n",
        "from keras.preprocessing.text import Tokenizer \n",
        "from keras_preprocessing.sequence import pad_sequences\n",
        "\n",
        "#prepare a tokenizer for reviews on training data\n",
        "x_tokenizer = Tokenizer() \n",
        "x_tokenizer.fit_on_texts(list(x_tr))"
      ],
      "metadata": {
        "execution": {
          "iopub.status.busy": "2022-07-22T05:49:33.278785Z",
          "iopub.execute_input": "2022-07-22T05:49:33.279570Z",
          "iopub.status.idle": "2022-07-22T05:49:38.758670Z",
          "shell.execute_reply.started": "2022-07-22T05:49:33.279519Z",
          "shell.execute_reply": "2022-07-22T05:49:38.757833Z"
        },
        "trusted": true,
        "id": "-7MUEuHgHXxG"
      },
      "execution_count": 85,
      "outputs": []
    },
    {
      "cell_type": "markdown",
      "source": [
        "**RARE WORD ANALYSIS FOR X i.e 'text'**\n",
        "* tot_cnt gives the size of vocabulary (which means every unique words in the text)\n",
        "\n",
        "* cnt gives me the no. of rare words whose count falls below threshold\n",
        "\n",
        "* tot_cnt - cnt gives me the top most common words"
      ],
      "metadata": {
        "id": "y1LvlmvGHXxG"
      }
    },
    {
      "cell_type": "code",
      "source": [
        "thresh=4\n",
        "\n",
        "cnt=0\n",
        "tot_cnt=0\n",
        "freq=0\n",
        "tot_freq=0\n",
        "\n",
        "for key,value in x_tokenizer.word_counts.items():\n",
        "    tot_cnt=tot_cnt+1\n",
        "    tot_freq=tot_freq+value\n",
        "    if(value<thresh):\n",
        "        cnt=cnt+1\n",
        "        freq=freq+value\n",
        "    \n",
        "print(\"% of rare words in vocabulary:\",(cnt/tot_cnt)*100)\n",
        "print(\"Total Coverage of rare words:\",(freq/tot_freq)*100)"
      ],
      "metadata": {
        "execution": {
          "iopub.status.busy": "2022-07-22T05:49:38.760544Z",
          "iopub.execute_input": "2022-07-22T05:49:38.760852Z",
          "iopub.status.idle": "2022-07-22T05:49:38.826239Z",
          "shell.execute_reply.started": "2022-07-22T05:49:38.760788Z",
          "shell.execute_reply": "2022-07-22T05:49:38.825325Z"
        },
        "trusted": true,
        "colab": {
          "base_uri": "https://localhost:8080/"
        },
        "id": "q-bg6u6QHXxG",
        "outputId": "c6ba43f5-7fee-4085-d53c-c6fd12994342"
      },
      "execution_count": 86,
      "outputs": [
        {
          "output_type": "stream",
          "name": "stdout",
          "text": [
            "% of rare words in vocabulary: 57.91270391131826\n",
            "Total Coverage of rare words: 1.3404923996005096\n"
          ]
        }
      ]
    },
    {
      "cell_type": "code",
      "source": [
        "\n",
        "#prepare a tokenizer for reviews on training data\n",
        "x_tokenizer = Tokenizer(num_words=tot_cnt-cnt) \n",
        "x_tokenizer.fit_on_texts(list(x_tr))\n",
        "\n",
        "#convert text sequences into integer sequences (i.e one-hot encodeing all the words)\n",
        "x_tr_seq    =   x_tokenizer.texts_to_sequences(x_tr) \n",
        "x_val_seq   =   x_tokenizer.texts_to_sequences(x_val)\n",
        "\n",
        "#padding zero upto maximum length\n",
        "x_tr    =   pad_sequences(x_tr_seq,  maxlen=max_text_len, padding='post')\n",
        "x_val   =   pad_sequences(x_val_seq, maxlen=max_text_len, padding='post')\n",
        "\n",
        "#size of vocabulary ( +1 for padding token)\n",
        "x_voc   =  x_tokenizer.num_words + 1\n",
        "\n",
        "print(\"Size of vocabulary in X = {}\".format(x_voc))"
      ],
      "metadata": {
        "execution": {
          "iopub.status.busy": "2022-07-22T05:49:38.828555Z",
          "iopub.execute_input": "2022-07-22T05:49:38.828997Z",
          "iopub.status.idle": "2022-07-22T05:49:51.482841Z",
          "shell.execute_reply.started": "2022-07-22T05:49:38.828836Z",
          "shell.execute_reply": "2022-07-22T05:49:51.481952Z"
        },
        "trusted": true,
        "colab": {
          "base_uri": "https://localhost:8080/"
        },
        "id": "t4q60C4pHXxH",
        "outputId": "6c09f91e-1a7a-4fad-9cbf-ffc04b38c443"
      },
      "execution_count": 87,
      "outputs": [
        {
          "output_type": "stream",
          "name": "stdout",
          "text": [
            "Size of vocabulary in X = 33412\n"
          ]
        }
      ]
    },
    {
      "cell_type": "markdown",
      "source": [
        "**RARE WORD ANALYSIS FOR Y i.e 'summary'**\n",
        "* tot_cnt gives the size of vocabulary (which means every unique words in the text)\n",
        "\n",
        "* cnt gives me the no. of rare words whose count falls below threshold\n",
        "\n",
        "* tot_cnt - cnt gives me the top most common words"
      ],
      "metadata": {
        "id": "JyMGjPRSHXxH"
      }
    },
    {
      "cell_type": "code",
      "source": [
        "#prepare a tokenizer for reviews on training data\n",
        "y_tokenizer = Tokenizer()   \n",
        "y_tokenizer.fit_on_texts(list(y_tr))"
      ],
      "metadata": {
        "execution": {
          "iopub.status.busy": "2022-07-22T05:49:51.484221Z",
          "iopub.execute_input": "2022-07-22T05:49:51.484695Z",
          "iopub.status.idle": "2022-07-22T05:49:53.996354Z",
          "shell.execute_reply.started": "2022-07-22T05:49:51.484644Z",
          "shell.execute_reply": "2022-07-22T05:49:53.995632Z"
        },
        "trusted": true,
        "id": "i1Fz4Jp-HXxH"
      },
      "execution_count": 88,
      "outputs": []
    },
    {
      "cell_type": "code",
      "source": [
        "thresh=6\n",
        "\n",
        "cnt=0\n",
        "tot_cnt=0\n",
        "freq=0\n",
        "tot_freq=0\n",
        "\n",
        "for key,value in y_tokenizer.word_counts.items():\n",
        "    tot_cnt=tot_cnt+1\n",
        "    tot_freq=tot_freq+value\n",
        "    if(value<thresh):\n",
        "        cnt=cnt+1\n",
        "        freq=freq+value\n",
        "    \n",
        "print(\"% of rare words in vocabulary:\",(cnt/tot_cnt)*100)\n",
        "print(\"Total Coverage of rare words:\",(freq/tot_freq)*100)"
      ],
      "metadata": {
        "execution": {
          "iopub.status.busy": "2022-07-22T05:49:53.998255Z",
          "iopub.execute_input": "2022-07-22T05:49:53.998553Z",
          "iopub.status.idle": "2022-07-22T05:49:54.029323Z",
          "shell.execute_reply.started": "2022-07-22T05:49:53.998506Z",
          "shell.execute_reply": "2022-07-22T05:49:54.028535Z"
        },
        "trusted": true,
        "colab": {
          "base_uri": "https://localhost:8080/"
        },
        "id": "xf1sjfu6HXxH",
        "outputId": "e88e8054-fba1-4f35-86f3-51d54c1a502b"
      },
      "execution_count": 89,
      "outputs": [
        {
          "output_type": "stream",
          "name": "stdout",
          "text": [
            "% of rare words in vocabulary: 66.34503603813067\n",
            "Total Coverage of rare words: 3.566630093901333\n"
          ]
        }
      ]
    },
    {
      "cell_type": "code",
      "source": [
        "#prepare a tokenizer for reviews on training data\n",
        "y_tokenizer = Tokenizer(num_words=tot_cnt-cnt) \n",
        "y_tokenizer.fit_on_texts(list(y_tr))\n",
        "\n",
        "#convert text sequences into integer sequences (i.e one hot encode the text in Y)\n",
        "y_tr_seq    =   y_tokenizer.texts_to_sequences(y_tr) \n",
        "y_val_seq   =   y_tokenizer.texts_to_sequences(y_val) \n",
        "\n",
        "#padding zero upto maximum length\n",
        "y_tr    =   pad_sequences(y_tr_seq, maxlen=max_summary_len, padding='post')\n",
        "y_val   =   pad_sequences(y_val_seq, maxlen=max_summary_len, padding='post')\n",
        "\n",
        "#size of vocabulary\n",
        "y_voc  =   y_tokenizer.num_words +1\n",
        "print(\"Size of vocabulary in Y = {}\".format(y_voc))"
      ],
      "metadata": {
        "execution": {
          "iopub.status.busy": "2022-07-22T05:49:54.031045Z",
          "iopub.execute_input": "2022-07-22T05:49:54.031893Z",
          "iopub.status.idle": "2022-07-22T05:49:58.777650Z",
          "shell.execute_reply.started": "2022-07-22T05:49:54.031840Z",
          "shell.execute_reply": "2022-07-22T05:49:58.776865Z"
        },
        "trusted": true,
        "colab": {
          "base_uri": "https://localhost:8080/"
        },
        "id": "5ewI80d3HXxI",
        "outputId": "b5ff15a0-53f0-42f4-f121-5c0ab4faf981"
      },
      "execution_count": 90,
      "outputs": [
        {
          "output_type": "stream",
          "name": "stdout",
          "text": [
            "Size of vocabulary in Y = 11581\n"
          ]
        }
      ]
    },
    {
      "cell_type": "markdown",
      "source": [
        "We will now remove \"Summary\" i.e Y (both train and val) which has only _START_ and _END_"
      ],
      "metadata": {
        "id": "cQR9XYCtHXxI"
      }
    },
    {
      "cell_type": "code",
      "source": [
        "ind=[]\n",
        "for i in range(len(y_tr)):\n",
        "    cnt=0\n",
        "    for j in y_tr[i]:\n",
        "        if j!=0:\n",
        "            cnt=cnt+1\n",
        "    if(cnt==2):\n",
        "        ind.append(i)\n",
        "\n",
        "y_tr=np.delete(y_tr,ind, axis=0)\n",
        "x_tr=np.delete(x_tr,ind, axis=0)"
      ],
      "metadata": {
        "execution": {
          "iopub.status.busy": "2022-07-22T05:49:58.778947Z",
          "iopub.execute_input": "2022-07-22T05:49:58.779392Z",
          "iopub.status.idle": "2022-07-22T05:50:02.729659Z",
          "shell.execute_reply.started": "2022-07-22T05:49:58.779340Z",
          "shell.execute_reply": "2022-07-22T05:50:02.728930Z"
        },
        "trusted": true,
        "id": "NrXZ_CMGHXxI"
      },
      "execution_count": 91,
      "outputs": []
    },
    {
      "cell_type": "code",
      "source": [
        "ind=[]\n",
        "for i in range(len(y_val)):\n",
        "    cnt=0\n",
        "    for j in y_val[i]:\n",
        "        if j!=0:\n",
        "            cnt=cnt+1\n",
        "    if(cnt==2):\n",
        "        ind.append(i)\n",
        "\n",
        "y_val=np.delete(y_val,ind, axis=0)\n",
        "x_val=np.delete(x_val,ind, axis=0)"
      ],
      "metadata": {
        "execution": {
          "iopub.status.busy": "2022-07-22T05:50:02.734432Z",
          "iopub.execute_input": "2022-07-22T05:50:02.734736Z",
          "iopub.status.idle": "2022-07-22T05:50:03.166328Z",
          "shell.execute_reply.started": "2022-07-22T05:50:02.734686Z",
          "shell.execute_reply": "2022-07-22T05:50:03.165619Z"
        },
        "trusted": true,
        "id": "u_u9-Y0PHXxJ"
      },
      "execution_count": 92,
      "outputs": []
    },
    {
      "cell_type": "code",
      "source": [
        "from keras import backend as K \n",
        "import gensim\n",
        "from numpy import *\n",
        "import numpy as np\n",
        "import pandas as pd \n",
        "import re\n",
        "from bs4 import BeautifulSoup\n",
        "from keras.preprocessing.text import Tokenizer \n",
        "from keras_preprocessing.sequence import pad_sequences\n",
        "from nltk.corpus import stopwords\n",
        "from tensorflow.keras.layers import Input, LSTM, Embedding, Dense, Concatenate, TimeDistributed\n",
        "from tensorflow.keras.models import Model\n",
        "from tensorflow.keras.callbacks import EarlyStopping\n",
        "import warnings\n",
        "pd.set_option(\"display.max_colwidth\", 200)\n",
        "warnings.filterwarnings(\"ignore\")\n",
        "\n",
        "print(\"Size of vocabulary from the w2v model = {}\".format(x_voc))\n",
        "\n",
        "K.clear_session()\n",
        "\n",
        "latent_dim = 300\n",
        "embedding_dim=200\n",
        "\n",
        "# Encoder\n",
        "encoder_inputs = Input(shape=(max_text_len,))\n",
        "\n",
        "#embedding layer\n",
        "enc_emb =  Embedding(x_voc, embedding_dim,trainable=True)(encoder_inputs)\n",
        "\n",
        "#encoder lstm 1\n",
        "encoder_lstm1 = LSTM(latent_dim,return_sequences=True,return_state=True,dropout=0.4,recurrent_dropout=0.4)\n",
        "encoder_output1, state_h1, state_c1 = encoder_lstm1(enc_emb)\n",
        "\n",
        "#encoder lstm 2\n",
        "encoder_lstm2 = LSTM(latent_dim,return_sequences=True,return_state=True,dropout=0.4,recurrent_dropout=0.4)\n",
        "encoder_output2, state_h2, state_c2 = encoder_lstm2(encoder_output1)\n",
        "\n",
        "#encoder lstm 3\n",
        "encoder_lstm3=LSTM(latent_dim, return_state=True, return_sequences=True,dropout=0.4,recurrent_dropout=0.4)\n",
        "encoder_outputs, state_h, state_c= encoder_lstm3(encoder_output2)\n",
        "\n",
        "# Set up the decoder, using `encoder_states` as initial state.\n",
        "decoder_inputs = Input(shape=(None,))\n",
        "\n",
        "#embedding layer\n",
        "dec_emb_layer = Embedding(y_voc, embedding_dim,trainable=True)\n",
        "dec_emb = dec_emb_layer(decoder_inputs)\n",
        "\n",
        "decoder_lstm = LSTM(latent_dim, return_sequences=True, return_state=True,dropout=0.4,recurrent_dropout=0.2)\n",
        "decoder_outputs,decoder_fwd_state, decoder_back_state = decoder_lstm(dec_emb,initial_state=[state_h, state_c])\n",
        "\n",
        "#dense layer\n",
        "decoder_dense =  TimeDistributed(Dense(y_voc, activation='softmax'))\n",
        "decoder_outputs = decoder_dense(decoder_outputs)\n",
        "\n",
        "# Define the model \n",
        "model = Model([encoder_inputs, decoder_inputs], decoder_outputs)\n",
        "\n",
        "model.summary()\n"
      ],
      "metadata": {
        "execution": {
          "iopub.status.busy": "2022-07-22T05:50:03.170715Z",
          "iopub.execute_input": "2022-07-22T05:50:03.171586Z",
          "iopub.status.idle": "2022-07-22T05:50:04.544840Z",
          "shell.execute_reply.started": "2022-07-22T05:50:03.171535Z",
          "shell.execute_reply": "2022-07-22T05:50:04.543948Z"
        },
        "trusted": true,
        "colab": {
          "base_uri": "https://localhost:8080/"
        },
        "id": "1kE9x9AQHXxJ",
        "outputId": "f6d0ab8a-2f19-42f9-a683-6744c0da70cc"
      },
      "execution_count": 93,
      "outputs": [
        {
          "output_type": "stream",
          "name": "stdout",
          "text": [
            "Size of vocabulary from the w2v model = 33412\n",
            "Model: \"model\"\n",
            "__________________________________________________________________________________________________\n",
            " Layer (type)                   Output Shape         Param #     Connected to                     \n",
            "==================================================================================================\n",
            " input_1 (InputLayer)           [(None, 100)]        0           []                               \n",
            "                                                                                                  \n",
            " embedding (Embedding)          (None, 100, 200)     6682400     ['input_1[0][0]']                \n",
            "                                                                                                  \n",
            " lstm (LSTM)                    [(None, 100, 300),   601200      ['embedding[0][0]']              \n",
            "                                 (None, 300),                                                     \n",
            "                                 (None, 300)]                                                     \n",
            "                                                                                                  \n",
            " input_2 (InputLayer)           [(None, None)]       0           []                               \n",
            "                                                                                                  \n",
            " lstm_1 (LSTM)                  [(None, 100, 300),   721200      ['lstm[0][0]']                   \n",
            "                                 (None, 300),                                                     \n",
            "                                 (None, 300)]                                                     \n",
            "                                                                                                  \n",
            " embedding_1 (Embedding)        (None, None, 200)    2316200     ['input_2[0][0]']                \n",
            "                                                                                                  \n",
            " lstm_2 (LSTM)                  [(None, 100, 300),   721200      ['lstm_1[0][0]']                 \n",
            "                                 (None, 300),                                                     \n",
            "                                 (None, 300)]                                                     \n",
            "                                                                                                  \n",
            " lstm_3 (LSTM)                  [(None, None, 300),  601200      ['embedding_1[0][0]',            \n",
            "                                 (None, 300),                     'lstm_2[0][1]',                 \n",
            "                                 (None, 300)]                     'lstm_2[0][2]']                 \n",
            "                                                                                                  \n",
            " time_distributed (TimeDistribu  (None, None, 11581)  3485881    ['lstm_3[0][0]']                 \n",
            " ted)                                                                                             \n",
            "                                                                                                  \n",
            "==================================================================================================\n",
            "Total params: 15,129,281\n",
            "Trainable params: 15,129,281\n",
            "Non-trainable params: 0\n",
            "__________________________________________________________________________________________________\n"
          ]
        }
      ]
    },
    {
      "cell_type": "code",
      "source": [
        "model.compile(optimizer='rmsprop', loss='sparse_categorical_crossentropy')\n"
      ],
      "metadata": {
        "execution": {
          "iopub.status.busy": "2022-07-22T05:50:04.546041Z",
          "iopub.execute_input": "2022-07-22T05:50:04.546324Z",
          "iopub.status.idle": "2022-07-22T05:50:04.611329Z",
          "shell.execute_reply.started": "2022-07-22T05:50:04.546278Z",
          "shell.execute_reply": "2022-07-22T05:50:04.610721Z"
        },
        "trusted": true,
        "id": "-KNGkIf6HXxK"
      },
      "execution_count": 94,
      "outputs": []
    },
    {
      "cell_type": "code",
      "source": [
        "es = EarlyStopping(monitor='val_loss', mode='min', verbose=1,patience=2)\n"
      ],
      "metadata": {
        "execution": {
          "iopub.status.busy": "2022-07-22T05:50:04.613856Z",
          "iopub.execute_input": "2022-07-22T05:50:04.614661Z",
          "iopub.status.idle": "2022-07-22T05:50:04.619553Z",
          "shell.execute_reply.started": "2022-07-22T05:50:04.614611Z",
          "shell.execute_reply": "2022-07-22T05:50:04.618733Z"
        },
        "trusted": true,
        "id": "z4rG6a8nHXxL"
      },
      "execution_count": 100,
      "outputs": []
    },
    {
      "cell_type": "markdown",
      "source": [
        "**Start fitting the model with the data**"
      ],
      "metadata": {
        "id": "gDnfQu_nHXxL"
      }
    },
    {
      "cell_type": "code",
      "source": [
        "history=model.fit([x_tr,y_tr[:,:-1]], y_tr.reshape(y_tr.shape[0],y_tr.shape[1], 1)[:,1:] ,epochs=5,callbacks=[es],batch_size=256, validation_data=([x_val,y_val[:,:-1]], y_val.reshape(y_val.shape[0],y_val.shape[1], 1)[:,1:]))\n"
      ],
      "metadata": {
        "colab": {
          "base_uri": "https://localhost:8080/"
        },
        "id": "R7yyNimvsIeL",
        "outputId": "34251368-3ca1-4793-ac94-b854296f8671"
      },
      "execution_count": null,
      "outputs": [
        {
          "output_type": "stream",
          "name": "stdout",
          "text": [
            "Epoch 1/5\n",
            "346/346 [==============================] - 5584s 16s/step - loss: 5.0973 - val_loss: 5.0102\n",
            "Epoch 2/5\n",
            "346/346 [==============================] - 5657s 16s/step - loss: 5.0282 - val_loss: 4.9515\n",
            "Epoch 3/5\n",
            "346/346 [==============================] - 5576s 16s/step - loss: 4.9722 - val_loss: 4.9115\n",
            "Epoch 4/5\n",
            "123/346 [=========>....................] - ETA: 1:00:19 - loss: 4.9343"
          ]
        }
      ]
    },
    {
      "cell_type": "code",
      "source": [
        "# history=model.fit([x_tr,y_tr[:,:-1]], y_tr.reshape(y_tr.shape[0],y_tr.shape[1], 1)[:,1:] ,epochs=50,callbacks=[es],batch_size=128, validation_data=([x_val,y_val[:,:-1]], y_val.reshape(y_val.shape[0],y_val.shape[1], 1)[:,1:]))\n"
      ],
      "metadata": {
        "execution": {
          "iopub.status.busy": "2022-07-22T05:50:04.621597Z",
          "iopub.execute_input": "2022-07-22T05:50:04.622596Z",
          "iopub.status.idle": "2022-07-22T10:06:02.901832Z",
          "shell.execute_reply.started": "2022-07-22T05:50:04.622546Z",
          "shell.execute_reply": "2022-07-22T10:06:02.900879Z"
        },
        "trusted": true,
        "id": "WNGAfHdgHXxM"
      },
      "execution_count": 97,
      "outputs": []
    },
    {
      "cell_type": "markdown",
      "source": [
        "**Visualize the model learning**"
      ],
      "metadata": {
        "id": "cTY87cfuHXxN"
      }
    },
    {
      "cell_type": "code",
      "source": [
        "from matplotlib import pyplot\n",
        "pyplot.plot(history.history['loss'], label='train')\n",
        "pyplot.plot(history.history['val_loss'], label='test')\n",
        "pyplot.legend()\n",
        "pyplot.show()"
      ],
      "metadata": {
        "execution": {
          "iopub.status.busy": "2022-07-22T10:06:02.903114Z",
          "iopub.execute_input": "2022-07-22T10:06:02.903400Z",
          "iopub.status.idle": "2022-07-22T10:06:03.067709Z",
          "shell.execute_reply.started": "2022-07-22T10:06:02.903352Z",
          "shell.execute_reply": "2022-07-22T10:06:03.066744Z"
        },
        "trusted": true,
        "id": "x4S-KoOOHXxN",
        "outputId": "aafc613b-0582-435d-9891-04a236ec4739"
      },
      "execution_count": null,
      "outputs": [
        {
          "output_type": "display_data",
          "data": {
            "text/plain": "<Figure size 432x288 with 1 Axes>",
            "image/png": "[encoded data removed]"
          },
          "metadata": {
            "needs_background": "light"
          }
        }
      ]
    },
    {
      "cell_type": "markdown",
      "source": [
        "**Next, let’s build the dictionary to convert the index to word for target and source vocabulary:**"
      ],
      "metadata": {
        "id": "cuyywMZLHXxO"
      }
    },
    {
      "cell_type": "code",
      "source": [
        "reverse_target_word_index=y_tokenizer.index_word\n",
        "reverse_source_word_index=x_tokenizer.index_word\n",
        "target_word_index=y_tokenizer.word_index"
      ],
      "metadata": {
        "execution": {
          "iopub.status.busy": "2022-07-22T10:06:03.069416Z",
          "iopub.execute_input": "2022-07-22T10:06:03.070866Z",
          "iopub.status.idle": "2022-07-22T10:06:03.076162Z",
          "shell.execute_reply.started": "2022-07-22T10:06:03.069673Z",
          "shell.execute_reply": "2022-07-22T10:06:03.075425Z"
        },
        "trusted": true,
        "id": "qajB6XnVHXxO"
      },
      "execution_count": null,
      "outputs": []
    },
    {
      "cell_type": "code",
      "source": [
        "# Encode the input sequence to get the feature vector\n",
        "encoder_model = Model(inputs=encoder_inputs,outputs=[encoder_outputs, state_h, state_c])\n",
        "\n",
        "# Decoder setup\n",
        "# Below tensors will hold the states of the previous time step\n",
        "decoder_state_input_h = Input(shape=(latent_dim,))\n",
        "decoder_state_input_c = Input(shape=(latent_dim,))\n",
        "decoder_hidden_state_input = Input(shape=(max_text_len,latent_dim))\n",
        "\n",
        "# Get the embeddings of the decoder sequence\n",
        "dec_emb2= dec_emb_layer(decoder_inputs) \n",
        "# To predict the next word in the sequence, set the initial states to the states from the previous time step\n",
        "decoder_outputs2, state_h2, state_c2 = decoder_lstm(dec_emb2, initial_state=[decoder_state_input_h, decoder_state_input_c])\n",
        "\n",
        "# A dense softmax layer to generate prob dist. over the target vocabulary\n",
        "decoder_outputs2 = decoder_dense(decoder_outputs2) \n",
        "\n",
        "# Final decoder model\n",
        "decoder_model = Model(\n",
        "    [decoder_inputs] + [decoder_hidden_state_input,decoder_state_input_h, decoder_state_input_c],\n",
        "    [decoder_outputs2] + [state_h2, state_c2])"
      ],
      "metadata": {
        "execution": {
          "iopub.status.busy": "2022-07-22T10:06:03.077719Z",
          "iopub.execute_input": "2022-07-22T10:06:03.078502Z",
          "iopub.status.idle": "2022-07-22T10:06:03.421430Z",
          "shell.execute_reply.started": "2022-07-22T10:06:03.078450Z",
          "shell.execute_reply": "2022-07-22T10:06:03.420643Z"
        },
        "trusted": true,
        "id": "F7-7KvIGHXxP"
      },
      "execution_count": null,
      "outputs": []
    },
    {
      "cell_type": "markdown",
      "source": [
        "**We are defining a function below which is the implementation of the inference process**"
      ],
      "metadata": {
        "id": "Na-VECeOHXxP"
      }
    },
    {
      "cell_type": "code",
      "source": [
        "def decode_sequence(input_seq):\n",
        "    # Encode the input as state vectors.\n",
        "    e_out, e_h, e_c = encoder_model.predict(input_seq)\n",
        "    \n",
        "    # Generate empty target sequence of length 1.\n",
        "    target_seq = np.zeros((1,1))\n",
        "    \n",
        "    # Populate the first word of target sequence with the start word.\n",
        "    target_seq[0, 0] = target_word_index['sostok']\n",
        "\n",
        "    stop_condition = False\n",
        "    decoded_sentence = ''\n",
        "    while not stop_condition:\n",
        "      \n",
        "        output_tokens, h, c = decoder_model.predict([target_seq] + [e_out, e_h, e_c])\n",
        "\n",
        "        # Sample a token\n",
        "        sampled_token_index = np.argmax(output_tokens[0, -1, :])\n",
        "        sampled_token = reverse_target_word_index[sampled_token_index]\n",
        "        \n",
        "        if(sampled_token!='eostok'):\n",
        "            decoded_sentence += ' '+sampled_token\n",
        "\n",
        "        # Exit condition: either hit max length or find stop word.\n",
        "        if (sampled_token == 'eostok'  or len(decoded_sentence.split()) >= (max_summary_len-1)):\n",
        "            stop_condition = True\n",
        "\n",
        "        # Update the target sequence (of length 1).\n",
        "        target_seq = np.zeros((1,1))\n",
        "        target_seq[0, 0] = sampled_token_index\n",
        "\n",
        "        # Update internal states\n",
        "        e_h, e_c = h, c\n",
        "\n",
        "    return decoded_sentence"
      ],
      "metadata": {
        "execution": {
          "iopub.status.busy": "2022-07-22T10:06:03.423179Z",
          "iopub.execute_input": "2022-07-22T10:06:03.423598Z",
          "iopub.status.idle": "2022-07-22T10:06:03.436024Z",
          "shell.execute_reply.started": "2022-07-22T10:06:03.423433Z",
          "shell.execute_reply": "2022-07-22T10:06:03.435208Z"
        },
        "trusted": true,
        "id": "lEeZc1AqHXxP"
      },
      "execution_count": null,
      "outputs": []
    },
    {
      "cell_type": "markdown",
      "source": [
        "**Let us define the functions to convert an integer sequence to a word sequence for summary as well as the reviews:**\n"
      ],
      "metadata": {
        "id": "3ABNhDJbHXxP"
      }
    },
    {
      "cell_type": "code",
      "source": [
        "def seq2summary(input_seq):\n",
        "    newString=''\n",
        "    for i in input_seq:\n",
        "        if((i!=0 and i!=target_word_index['sostok']) and i!=target_word_index['eostok']):\n",
        "            newString=newString+reverse_target_word_index[i]+' '\n",
        "    return newString\n",
        "\n",
        "def seq2text(input_seq):\n",
        "    newString=''\n",
        "    for i in input_seq:\n",
        "        if(i!=0):\n",
        "            newString=newString+reverse_source_word_index[i]+' '\n",
        "    return newString"
      ],
      "metadata": {
        "execution": {
          "iopub.status.busy": "2022-07-22T10:06:03.437292Z",
          "iopub.execute_input": "2022-07-22T10:06:03.437673Z",
          "iopub.status.idle": "2022-07-22T10:06:03.449274Z",
          "shell.execute_reply.started": "2022-07-22T10:06:03.437568Z",
          "shell.execute_reply": "2022-07-22T10:06:03.448418Z"
        },
        "trusted": true,
        "id": "S2o0KpgRHXxQ"
      },
      "execution_count": null,
      "outputs": []
    },
    {
      "cell_type": "markdown",
      "source": [
        "**Run the model over the data to see the results**"
      ],
      "metadata": {
        "id": "0ii30YC5HXxQ"
      }
    },
    {
      "cell_type": "code",
      "source": [
        "for i in range(0,100):\n",
        "    print(\"Review:\",seq2text(x_tr[i]))\n",
        "    print(\"Original summary:\",seq2summary(y_tr[i]))\n",
        "    print(\"Predicted summary:\",decode_sequence(x_tr[i].reshape(1,max_text_len)))\n",
        "    print(\"\\n\")"
      ],
      "metadata": {
        "execution": {
          "iopub.status.busy": "2022-07-22T10:06:03.451123Z",
          "iopub.execute_input": "2022-07-22T10:06:03.452078Z",
          "iopub.status.idle": "2022-07-22T10:06:28.214282Z",
          "shell.execute_reply.started": "2022-07-22T10:06:03.452028Z",
          "shell.execute_reply": "2022-07-22T10:06:28.212755Z"
        },
        "trusted": true,
        "id": "pPwRlkY4HXxQ",
        "outputId": "7ad3a82e-75b0-4414-84f2-39f49df764a2"
      },
      "execution_count": null,
      "outputs": [
        {
          "name": "stdout",
          "text": "Review: pope francis on tuesday called for respect for each ethnic group in speech delivered in myanmar avoiding reference to the rohingya minority community as the nation works to restore peace the healing of wounds must be priority he said the pope myanmar visit comes amid the country military crackdown resulting in the rohingya refugee crisis \nOriginal summary: start pope avoids mention of rohingyas in key myanmar speech end \nPredicted summary:  start pope francis calls for rohingya muslims end\n\n\nReview: students of government school in uttar pradesh sambhal were seen washing dishes at in school premises on being approached basic shiksha adhikari virendra pratap singh said yes have also received this complaint from elsewhere we are inquiring and action will be taken against those found guilty \nOriginal summary: start students seen washing dishes at govt school in up end \nPredicted summary:  start school students fall ill after taking mid day meal in up end\n\n\nReview: apple india profit surged by 140 in 2017 18 to crore compared to ã¢ââ¹373 crore in the previous fiscal the indian unit of the us based company posted 12 growth in revenue last fiscal at ã¢ââ¹13 crore apple share of the indian smartphone market dropped to 1 in the second quarter of 2018 according to counterpoint research \nOriginal summary: start apple india profit rises 140 to nearly ã¢ââ¹900 crore in fy18 end \nPredicted summary:  start apple india profit rises to ã¢ââ¹1 crore in march quarter end\n\n\nReview: uber has launched its electric scooter service in santa monica us at 1 to unlock and then 15 cents per minute to ride it comes after uber acquired the bike sharing startup jump for reported amount of 200 million uber said it is branding the scooters with jump for the sake of consistency for its other personal electric vehicle services \nOriginal summary: start uber launches electric scooter service in us at 1 per ride end \nPredicted summary:  start uber launches new york based on uber rival lyft end\n\n\nReview: around 80 people were injured in accidents related to kite flying during celebrations of makar sankranti in rajasthan jaipur officials said the victims included those who fell while flying kites and those injured by glass coated kite string officials added meanwhile around 100 birds were reported to be injured by between january 13 and 15 \nOriginal summary: start 80 people injured in flying related accidents in jaipur end \nPredicted summary:  start 4 injured as truck overturns in rajasthan end\n\n\nReview: uk entrepreneur richard browning has announced the launch of his startup gravity which has created flight jet powered suit that will be priced at about ã¢ââ¹1 3 crore the suit has custom built exoskeleton with six attached micro jet engines fuelled by kerosene from backpack browning claims the can travel at speed of up to 450 kmph \nOriginal summary: start startup makes ã¢ââ¹1 3 crore jet powered flying suit end \nPredicted summary:  start startup makes ã¢ââ¹1 6 crore to make flying jet airways end\n\n\nReview: andhra pradesh chief minister chandrababu naidu on monday announced that his government will provide 100 units free power to most backward classes he added that the government would also give aid of up to ã¢ââ¹15 lakh to backward classes for foreign education we will spread out the poverty eradication program under pro basis he further said n \nOriginal summary: start most backward classes to get 100 units free power andhra cm end \nPredicted summary:  start andhra cm announces 100 free education for 10 days end\n\n\nReview: taking dig at pm modi congress president rahul gandhi tweeted while our pm around his garden making yoga videos india leads afghanistan syria in rape violence against women this comes after thomson reuters foundation survey declared india as world most dangerous country for women pm modi shared video of himself doing yoga and other exercises last week \nOriginal summary: start pm modi makes yoga videos while india leads in rape rahul end \nPredicted summary:  start pm modi meets rahul gandhi in india remark end\n\n\nReview: external affairs minister sushma swaraj on saturday called upon the united nations to pass the comprehensive convention on international terrorism to end pakistan sponsored terrorism proposed by india in 1996 aims to arrive at universal definition of terrorism ban all terror groups prosecute terrorists under special laws and make cross border terrorism an offence \nOriginal summary: start india calls on un to pass global anti terror convention end \nPredicted summary:  start india asks un to help pak on terror groups end\n\n\nReview: the 23 richest indians in the 500 member bloomberg billionaires index saw wealth erosion of 21 billion this year lakshmi mittal who controls the world largest steelmaker arcelormittal lost 5 6 billion or 29 of his net worth followed by sun pharma founder dilip shanghvi whose wealth declined 4 6 billion asia richest person mukesh ambani added 4 billion to his fortune \nOriginal summary: start lakshmi mittal lost 10 bn in 2018 ambani added 4 bn end \nPredicted summary:  start indian richest man loses wealth in wealth as stock falls to end\n\n\nReview: the haryana police have arrested 19 year old for killing 75 year old woman after attempting rape on her in village in the state the accused gagged the victim with scarf and hit brick on her head when she shouted for help the teenager mother then washed the blood from their house and outside to save him \nOriginal summary: start teen kills lady after rape attempt mother cleans blood to save him end \nPredicted summary:  start haryana man arrested for raping killing woman in gurugram end\n\n\nReview: a in pakistan has been jailed for 24 years for blackmailing and harassing nearly 200 lady doctors and nurses he introduced himself as military intelligence official according to the complainant who filed the case he was arrested in 2015 for hacking the whatsapp accounts of lady doctors blackmailing them with objectionable content and extorting money from them \nOriginal summary: start pak jailed for harassing 200 lady doctors nurses end \nPredicted summary:  start pak doctor jailed for stealing whatsapp for months end\n\n\nReview: a doctor at andhra pradesh government hospital allegedly attacked the hospital superintendent with an injection containing hiv infected blood while the attempt to inject the infected blood was thwarted he managed to spray the blood on the senior dress the accused who said he only wanted to scare the superintendent was reportedly upset over being reprimanded by him \nOriginal summary: start andhra doc tries to senior with hiv infected blood end \nPredicted summary:  start doctor who stole to hospital after blood attack end\n\n\nReview: after congress vice president rahul gandhi slammed pm narendra modi while talking at the university of california party leader anand sharma backed him saying it justified to condemn prime minister in democracy if they bjp leaders think we ll ask them before making any statement they are wrong they should be prepared for this kind of attacks he added \nOriginal summary: start pm justified in democracy cong on rahul remark end \nPredicted summary:  start rahul gandhi is pm modi bjp leader end\n\n\nReview: former england cricket team spinner ashley giles will succeed former captain andrew strauss as the managing director of england men cricket in january the ecb has confirmed tom harrison the chief executive described giles as the candidate amongst very strong field giles was part of england 2005 ashes winning team \nOriginal summary: start appointed director of cricket end \nPredicted summary:  start former england captain to lead in cricket end\n\n\nReview: a case has been registered against raja chauhan for firing gunshots in violence during bharat bandh called by dalit groups in madhya pradesh gwalior on monday video showing chauhan alleged to be bjp worker firing during the protest had surfaced online of the 12 people killed during the nationwide protests at least three were from gwalior \nOriginal summary: start case filed man who fired in dalit protests end \nPredicted summary:  start video shows bjp leader booked for killing in mp end\n\n\nReview: there are believed to be 80 different ways to spell the name of english playwright william shakespeare including and shakespeare is known to have signed his name using variations such as and due to no proper documentation april 23 is regarded as his birth date and april 23 as his death date \nOriginal summary: start there are 80 recorded ways to spell shakespeare end \nPredicted summary:  start why is the name of the end\n\n\nReview: actor shahid kapoor while speaking about ranveer singh portrayal of alauddin khilji in the film padmaavat said he would have played the character differently we are two different actors and our style of acting is different he added earlier ranveer had said he would have played shahid character in the film better than shahid \nOriginal summary: start i would have played khilji differently shahid kapoor end \nPredicted summary:  start i am the only female ranveer on shahid kapoor end\n\n\nReview: minors cannot opt out of aadhaar after turning 18 year old since it not permissible under the aadhaar act uidai has told the supreme court they can lock their biometrics permanently and can unlock it temporarily if needed for biometric authentication further the sc was told the biometrics failure rate at the national level was 6 for fingerprints and 8 54 for iris \nOriginal summary: start minors can opt out of aadhaar after turning 18 uidai end \nPredicted summary:  start aadhaar can be only if not given aadhaar without end\n\n\nReview: producer ekta kapoor slammed karni sena threat that they will cut deepika padukone nose over the row on padmavati and asked aren we getting these jailed for open threats and attacks in the tweet she also wrote about an incident wherein people threw bottles at her at an event in jaipur over her tv series akbar \nOriginal summary: start aren those threatening deepika getting jailed asks ekta end \nPredicted summary:  start karni sena threatens to stop padmavati row end\n\n\nReview: talking about being ranked 7th on forbes list of world highest paid actors 2018 akshay kumar said it feels good but never take these lists too seriously they keep changing like seasons he further said the idea is only to do good better and best work but of course forever grateful when things like these come my way \nOriginal summary: start feels good akshay on being 7th highest paid actor end \nPredicted summary:  start i have most been most paid actor for akshay kumar end\n\n\nReview: an indian origin couple was killed by their daughter ex boyfriend in an apparent revenge crime in the us on friday the 24 year old suspect mirza fatally shot naren prabhu silicon valley tech executive and his wife in san jose the police called the swat team after stand off with who was later killed after bullet hit him \nOriginal summary: start indian origin couple killed in revenge crime in us end \nPredicted summary:  start indian origin couple killed in us in shooting end\n\n\nReview: a 64 year old father and his 35 year old daughter flew their last flight together as british airways pilots on thursday david said he felt mixed emotions at retiring and was glad his daughter kat would continue their legacy the two had flown together numerous times and kat said she believed their father daughter bond helped them in the cockpit \nOriginal summary: start father and daughter fly last flight together as ba pilots end \nPredicted summary:  start daughter daughter plane crash is the first time end\n\n\nReview: pakistan chief selector inzamam ul haq nephew imam ul haq collided with wicketkeeper brien and kane while completing single off ireland first ever test delivery on saturday debutant imam fell flat on his back after his head into brien hip while trying to make his crease uncle would ve just both fielders user tweeted reacting to the incident \nOriginal summary: start imam collides with two on ireland first test ball end \nPredicted summary:  start pak pacer breaks down on his 1st test match end\n\n\nReview: reacting to apple launch event on wednesday several users took to twitter saying dual sim they are really going after indians here tweet read the iphone xs max will come in smaller model ipad mini while another mocked weakening rupee against dollar saying apple watch series can detect fall someone make the rupee wear it \nOriginal summary: start dual sim they re going after indians twitter on new iphones end \nPredicted summary:  start it is the new apple ceo on apple india end\n\n\nReview: pakistan on sunday rejected india request for consular access to kulbhushan jadhav for the time saying he is not an ordinary citizen pakistan foreign office claimed that he was sent by an indian intelligence agency and that he killed several innocent pakistanis jadhav was sentenced to death by pakistani military court in april on charges of espionage \nOriginal summary: start pak denies india consular access to kulbhushan for 18th time end \nPredicted summary:  start pak rejects india plea to not release of kulbhushan jadhav end\n\n\nReview: a 9 year old south african child has become only the third known case worldwide to show signs of aids virus long term remission without any drugs the child was given anti aids medicine for 10 months till the age of one which helped lower hiv levels from very high to the kid was then taken off drugs as part of trial \nOriginal summary: start 9 year old found to control hiv without any treatment end \nPredicted summary:  start only teen who killed drug abuse in us end\n\n\nReview: a 23 year old female finnish tourist was found dead at hotel in tamil nadu chennai on wednesday the police who retrieved drugs from the hotel room suspect that the woman died of drug overdose an investigation has been launched into the incident and the police are questioning the woman boyfriend \nOriginal summary: start finnish tourist found dead in tn drug overdose suspected end \nPredicted summary:  start female tourist found dead in tamil nadu end\n\n\nReview: us president donald trump has told his south korean counterpart moon jae in that his country is open to talks with north korea at the appropriate time under the right circumstances trump also assured jae in that there would be no us military action against north korea as long as south korea is having dialogue with the reclusive nation \nOriginal summary: start us open to talk to north korea under right end \nPredicted summary:  start trump threatens to korea talks with north korea end\n\n\nReview: actress yami gautam has said rajkummar rao would have been amazing as the lead character vicky in the 2012 film vicky donor the character was originally portrayed by ayushmann khurrana who made his bollywood debut in the film while yami played the female lead when asked who would have played yami character well ayushmann had earlier taken bhumi pednekar name \nOriginal summary: start rajkummar would have been amazing as vicky in vicky donor yami end \nPredicted summary:  start rajkummar rao to star in film on film with end\n\n\nReview: an east german secret police identity card belonging to russian president vladimir putin when he was soviet spy has been found in police archives in the city of dresden the card was issued in 1985 when putin was mid ranking soviet spy stationed in dresden in communist east germany which was then under russian occupation \nOriginal summary: start putin spy id card found in germany end \nPredicted summary:  start french police putin hacked with fake news found end\n\n\nReview: bangladesh pm sheikh hasina has accused myanmar of finding new excuses to delay the return of over lakh rohingya muslims who fled myanmar to enter bangladesh over the past year adding that under no would the refugees remain permanently in bangladesh hasina said already have 16 crore people in my country can take any other burden \nOriginal summary: start myanmar delaying tactics blocking rohingya return desh end \nPredicted summary:  start bangladesh accuses myanmar of rohingya refugees end\n\n\nReview: surat police has issued summons to former gujarat bjp vice president jayanti bhanushali in connection with rape case against him 21 year old girl from surat has accused him of raping her multiple times since november 2017 after promising to get her admitted to fashion designing institute bhanushali resigned from his position following the rape accusation \nOriginal summary: start police ex gujarat bjp vice president in rape case end \nPredicted summary:  start case against aap for rape accused in rape case end\n\n\nReview: technology giant google will reportedly prioritise articles in the search results from those publications which are subscribed by users the company will also start sharing search data that show the users which are most likely to buy subscription this is part of the technology giant efforts to help media companies find and retain paying readers \nOriginal summary: start google may prioritise stories for paid news subscribers end \nPredicted summary:  start google to let users send messages to report end\n\n\nReview: india is model for peacefully resolving maritime disputes and strong provider of security us navy secretary richard spencer has said praising india for peacefully resolving maritime border dispute with the us in the indo pacific region the relationship between the us and india is based on our shared values and desire to preserve peace the us official added \nOriginal summary: start india model for maritime disputes us end \nPredicted summary:  start india is the most powerful country in us end\n\n\nReview: the archaeological site rani ki vav that features on the rear of new ã¢ââ¹100 notes is unesco world heritage site in gujarat patan the 11th century site is which was built by the solanki dynasty queen as memorial for her deceased husband in 2016 it was awarded the cleanest iconic place in india title \nOriginal summary: start what is the importance of rani ki featured on new ã¢ââ¹100 note end \nPredicted summary:  start the world largest ã¢ââ¹100 crore released end\n\n\nReview: the us has accused china of pointing military grade blinding lasers at its pilots in djibouti in nearly 10 such incidents in the past few weeks two us military pilots suffered minor eye injuries in one case officials said while the us has military base in djibouti since 2001 china opened its first overseas base in the region last year \nOriginal summary: start us accuses china of lasers at its pilots eyes end \nPredicted summary:  start us accuses china of sea of china sea end\n\n\nReview: a fake news update is being shared on whatsapp which claims that the government provides compensation in case of death due to accident it claims that if person dies in an accident and has been filing his income tax since the last three years the government will provide compensation equivalent to 10 times his average annual income \nOriginal summary: start news about money from government in accidental deaths fake end \nPredicted summary:  start fake news of whatsapp group accused of killing fake news end\n\n\nReview: sridevi starrer song hawa hawai from the 1987 film mr india has been recreated for vidya balan film tumhari sulu the vocals of kavita krishnamurthy who sang the original song have been retained and the new version has been recreated and programmed by tanishk bagchi directed by suresh triveni tumhari sulu is scheduled to release on november 17 \nOriginal summary: start hawa hawai recreated for tumhari sulu end \nPredicted summary:  start vidya balan starrer isha ambani starrer isha ambani end\n\n\nReview: the us state department has approved the sale of 160 missiles to the united arab emirates for an estimated 2 billion over ã¢ââ¹12 800 crore the pentagon said on thursday describing uae as force for political stability in the middle east the pentagon stated this proposed sale will contribute to the foreign policy and national security of the united states \nOriginal summary: start us approves sale of missiles worth ã¢ââ¹12 800 crore to uae end \nPredicted summary:  start us approves sale of oil from uae to end\n\n\nReview: iran would not comply with the fully illegal us sanctions and would not discuss the volume or destination of its oil exports amidst the sanctions iranian oil minister zanganeh said on thursday the us sanctions targeting iran key economic sectors like oil and gas shipping and banking were imposed following the us withdrawal from the 2015 iran nuclear deal \nOriginal summary: start iran says it will not comply with illegal us sanctions end \nPredicted summary:  start iran won allow us to help us sanctions iran end\n\n\nReview: pornstar stormy daniels has been ordered to pay us president donald trump nearly 293 000 in legal fees and sanctions after her defamation suit against him was dismissed daniels alleges she was paid to hide her alleged affair with trump in 2016 she sued trump for defamation after he called her claims total con job in tweet \nOriginal summary: start pornstar stormy daniels ordered to pay trump 000 end \nPredicted summary:  start pornstar fined for trump over affair with end\n\n\nReview: windies all rounder dwayne bravo compared team india and rcb captain virat kohli to footballer cristiano ronaldo admire the talent he has the passion and talent that he has for the sport and the way he plays bravo added notably ronaldo is champions league all time top goalscorer with 120 goals and is the leading scorer this season with 15 goals \nOriginal summary: start virat kohli is cristiano ronaldo of cricket dwayne bravo end \nPredicted summary:  start virat kohli is the ipl cricketer of the ipl end\n\n\nReview: singer ariana grande visited young children in hospital who were injured after blast at her concert in manchester uk in may the 23 year old singer presented t shirts and gifts to the young children ariana along with justin bieber miley cyrus and coldplay will perform on june to raise funds for the victims of the terrorist attack at the concert \nOriginal summary: start ariana grande visits kids injured after blast at her concert end \nPredicted summary:  start singer chris gayle to get out of kids in hospital end\n\n\nReview: a former uber manager robert miller had reportedly warned uberã¢ââs executives about safety issues before the fatal self driving car crash in arizona in march ã¢ââthe cars are routinely in accidents resulting in damage this is not how we should be operating ã¢ââ miller had said he added ã¢ââseveral of the drivers appear to not have been properly vetted or trained ã¢ââ \nOriginal summary: start ex uber exec warned staff before self driving crash report end \nPredicted summary:  start ex uber exec family claims ex employee end\n\n\nReview: in chhattisgarh bharatpur assembly constituency village there are only four voters with three belonging to the same family to reach the forest village situated 15 kilometres away from the main road six kilometre rocky path and river have to be crossed the election officials will reach the village day before and erect tent for the voters \nOriginal summary: start chhattisgarh village has only voters from same family end \nPredicted summary:  start assam village has only to have more than family end\n\n\nReview: aimim president asaduddin owaisi has said that no beef ban in three northeast states which will go to polls next year reflects dual standards and hypocrisy in up bjp is doing appeasement of hindutva forces he added his remark came after the bjp clarified that it will not impose beef ban in northeastern states if voted to power \nOriginal summary: start no beef ban in poll bound northeast shows owaisi end \nPredicted summary:  start no ban on muslim women in us owaisi end\n\n\nReview: taking dig at bjp for its proposed rath yatra west bengal cm mamata banerjee on friday said that rath yatras are not carried out to kill people those who carry out yatras to kill common people indulge in yatras she added this comes after calcutta high court recently put stay on bjp rath yatra in the state \nOriginal summary: start rath yatras are not carried out to kill people wb cm end \nPredicted summary:  start we don need to kill people mamata on wb cm end\n\n\nReview: a picture of russian mp natalya leaning against wall ahead of vladimir putin inauguration has gone viral reacting to the picture twitter user wrote current mood natalya other users tweeted am natalya at every party and maybe she was ordered to open and close the door \nOriginal summary: start pic of mp leaning against wall before putin oath goes viral end \nPredicted summary:  start russian pm netanyahu booked for posting pic of russian temple end\n\n\nReview: actor purab kohli has said that the release of films on fridays is like the appraisal period for actors just like employees in corporate offices have their annual appraisal period where they get nervous about what will happen with their salaries we actors too feel the first friday said purab he added that ultimately audience is the best judge \nOriginal summary: start friday releases are like period for actors end \nPredicted summary:  start we are the film industry on film industry end\n\n\nReview: a new trailer of the hindi version of deadpool has been released where ranveer singh is seen voicing ryan reynolds who plays the lead role of deadpool bollywood desi cool is india deadpool tweeted fox star india the distributors of the film in india earlier another trailer had been released which featured different voice artiste \nOriginal summary: start ranveer singh voices reynolds in deadpool hindi version end \nPredicted summary:  start trailer of ranveer singh starrer padmavati released end\n\n\nReview: the archaeological survey of india asi has banned selfie sticks at its 46 site museums across the country including taj museum in agra and indian war memorial museum in delhi further the visitors would need to get permission for using flash multiple lenses and carrying large photography bags 15 days before the scheduled visit \nOriginal summary: start selfie sticks banned at 46 site across india end \nPredicted summary:  start india bans selfie with at lord s end\n\n\nReview: indian commodity exchange on monday commenced operations as the world first diamond futures exchange indian manufacturers most require this type of financial product md prasad said adding shall offer fair transparent and nationwide market bringing in large market participation into diamond trade the exchange is backed by companies like reliance capital and \nOriginal summary: start worldã¢ââs 1st diamond futures exchange starts trading in india end \nPredicted summary:  start india first ever buys rival unit for the first time end\n\n\nReview: the us state department on thursday imposed sanctions against the chinese military for buying russian sukhoi su 35 fighter jets and s 400 air defence missile systems the us also blacklisted 33 people and entities associated with the russian intelligence china has called on the us to withdraw the sanctions or bear the consequences \nOriginal summary: start us sanctions china for buying russian jets missiles end \nPredicted summary:  start us imposes sanctions against china over trade war end\n\n\nReview: the mumbai police on wednesday cancelled the conditional licences granted to the three of the city dance bars for failing to comply with fire safety norms the establishments didn respond to repeated show cause notices and failed to produce the required documents during the hearing police said in 2016 the supreme court had permitted these bars to operate after the ban \nOriginal summary: start licence of mumbai only three dance bars cancelled end \nPredicted summary:  start mumbai police arrest warrant issued against end\n\n\nReview: congress president rahul gandhi has told party leaders to strengthen the organisation in such fashion that it is not candidate but the party that will fight the election party mp pl punia claimed state incharges have been told to identify the strong and weak booths while special attention is being given to shakti congress interaction platform for workers \nOriginal summary: start rahul told us party will fight polls not candidate cong mp end \nPredicted summary:  start rahul gandhi is not to contest polls cong mp end\n\n\nReview: japanese conglomerate softbank is still considering if it should sell its reported 20 22 stake in indian e commerce startup flipkart to walmart as per reports softbank ceo masayoshi son will take call in the next 7 10 days the reports added softbank which invested 2 5 billion in flipkart last year would sell the stake for 4 billion reports had earlier suggested \nOriginal summary: start softbank still considering selling flipkart stake reports end \nPredicted summary:  start softbank may buy flipkart stake for flipkart reports end\n\n\nReview: the bjp has crossed the halfway mark leading in 112 seats in the ongoing karnataka assembly elections for 222 electoral constituencies while the congress is leading in 56 seats the jd has secured lead in 38 seats the voting for two constituencies was postponed due to candidate demise in jayanagar and the voter id row in rr nagar \nOriginal summary: start bjp crosses halfway mark leads in 112 seats in taka polls end \nPredicted summary:  start bjp crosses karnataka assembly elections end\n\n\nReview: kartik aaryan is coming today for live interactive session on huawei mate 20 pro touted in media reports as the king of smartphones at ambience mall gurugram pm onwards first buyer will get chance to the smartphone with kartik as while the next will get to take group selfie with him \nOriginal summary: start kartik aaryan comes to flag off offline strategy end \nPredicted summary:  start beyoncãâ to be used in middle east end\n\n\nReview: days after bjp and its allies sealed seat sharing arrangement in bihar ahead of 2019 lok sabha polls bjp mp gopal narayan singh said like all over india in bihar also our main brand is pm narendra modiji claiming both jd and bjp are equal partners singh added if bjp needs cm nitish kumar then he also needs bjp \nOriginal summary: start pm modi is our main brand in bihar says bjp mp end \nPredicted summary:  start bjp has more to work in india bjp mp end\n\n\nReview: a mysterious carcass washed ashore an indonesian island suspected of being giant or elephant has been identified by experts us based biologist believes the bloodied creature was decomposing whale other scientists agreed that the remains of plates most likely belonged to the whale indonesia marine authorities said to carry sample to confirm its identity \nOriginal summary: start dead sea washed up on indonesian coast identified end \nPredicted summary:  start found dead in canada end\n\n\nReview: a farmer in karnataka has filed complaint against bjp workers for allegedly destroying his farmland for constructing helipad for party president amit shah he claimed the bjp workers had entered the land forcefully and abused him when he questioned them bjp spokesperson prakash said that any high handedness by local leaders will be looked into \nOriginal summary: start farmer claims bjp workers destroyed land for shah end \nPredicted summary:  start bjp workers booked for bjp workers over taka row end\n\n\nReview: the supreme court has banned all construction activities in maharashtra madhya pradesh uttarakhand and chandigarh till october the interim order came after the states and the union territory failed to comply with the court order to come up with policy on solid waste management the attitude of the states union territories is pathetic to say the least the court said \nOriginal summary: start sc bans construction in maharashtra mp uttarakhand end \nPredicted summary:  start sc bans sale of maharashtra govt to open defecation free end\n\n\nReview: mumbai based startup taxi fabric co founder has been accused by his former colleague swapna nair of sending her ck pics even after she asked him not to send them he repeatedly kept talking about how my dark skin would make him hard instantly said swapna tried to change the conversation but it was impossible without his ck interrupting she added \nOriginal summary: start taxi fabric founder accused of sending ck pics to ex colleague end \nPredicted summary:  start mumbai startup accused of sexual harassment by ex end\n\n\nReview: after passenger who travelled in air india newark mumbai flight complained of bed bugs in their business class seats the airline claimed may have happened due to the current weather conditions apologising for the inconvenience air india also offered to refund 75 of the passenger fare the passenger had tweeted photo of bite marks all over her arm \nOriginal summary: start air india blames weather for bed bugs in business class end \nPredicted summary:  start air india flight makes emergency landing due to no end\n\n\nReview: the bombay high court on monday accepted maharashtra government proposal that it wouldn allow children below 14 years of age to participate in the dahi handi festival which witnesses several injuries to youngsters however the bench refused to impose any restriction on the height of human pyramid formations during the festival notably since 2014 children below 18 years weren allowed \nOriginal summary: start hc accepts maha govt 14 yrs age restriction for dahi handi end \nPredicted summary:  start hc allows maha govt to give birth to death end\n\n\nReview: the rajasthan high court has issued notice to the centre asking why condom advertisements cannot be shown on tv between am and 10 pm the court was hearing petition filed by nonprofit organisation which has called the order arbitrary and meaningless earlier this month the ministry had issued an advisory restricting timings of condom ads \nOriginal summary: start raj hc issues notice to centre over condom ads restrictions end \nPredicted summary:  start hc asks centre to stop using ads in raj end\n\n\nReview: an 80 year old woman threw coins into the engine of plane at shanghai airport for good luck on tuesday all 150 passengers were evacuated and the flight was delayed for nearly six hours after one of the nine coins she threw entered the engine the woman has been exempted from jail because she is aged over 70 the police said \nOriginal summary: start woman throws coins into plane engine for luck delays flight end \nPredicted summary:  start woman flight makes emergency landing after landing end\n\n\nReview: actress margot best known for playing the role of lois lane in the superman film franchise of the 1970s and 1980s passed away on sunday at the age of 69 an autopsy will be performed to determine the cause of her death margot who suffered from car accident in 1990 had experienced long term mental health issues \nOriginal summary: start actress who portrayed lane in superman film passes away end \nPredicted summary:  start actress who was the best actor at the age of end\n\n\nReview: zaheer khan fiancãâ actor sagarika ghatge posted picture on instagram of the couple in which zaheer new clean look sagarika captioned the picture came back home to this stranger doing rather well cricketers including ravindra jadeja hardik pandya rohit sharma and ajinkya rahane also posted selfies on instagram earlier \nOriginal summary: start zaheer broke the beard rather well says fiancãâ sagarika end \nPredicted summary:  start zaheer khan shares pic with rumoured girlfriend end\n\n\nReview: for the first time bcci anti corruption unit has restricted cricketers from meeting outsiders in private during the two ipl matches on may 10 and 13 in kanpur players will only be allowed to interact with outsiders in the presence of the hotel manager in the lobby additionally phone records of players and franchise owners would be checked daily \nOriginal summary: start players barred from meeting outsiders during ipl end \nPredicted summary:  start bcci announces 1st ever ipl match for women players end\n\n\nReview: kareena kapoor has said that shah rukh khan is india biggest romantic hero when you go to any corner of the world when you say india the first thing that comes to your mind is shah rukh khan she added kareena further said he has touched people lives with his roles his passion his genuine love and his charm \nOriginal summary: start shah rukh khan is india biggest romantic hero kareena end \nPredicted summary:  start srk is the biggest ever actor kareena end\n\n\nReview: aligarh mayor mohammed on wednesday confessed that he did not remember the national anthem completely but that he respected it listen to the national anthem every day stand and pay respect to it he added reporters had asked to recite the national anthem after addressing his first press conference after assuming charge as the city mayor \nOriginal summary: start don remember the national anthem completely aligarh mayor end \nPredicted summary:  start i am not in national anthem minister end\n\n\nReview: reacting to kylie jenner naming her baby stormi webster twitter user wrote if ever have child ll be naming it north chicago storm weather forecast commented another user while referring to north and chicago the daughters of kylie half sister kim kardashian another tweet read it wasn going to be called something boring like brenda \nOriginal summary: start will name kid tweets user on kylie naming kid end \nPredicted summary:  start i would love to do my baby tweets user end\n\n\nReview: the union home ministry has warned that threat to prime minister narendra modi is at an all time high the home ministry has laid down security protocol which includes even ministers and officers to be cleared by special protection group spg staff before they can come close to pm modi this comes after maharashtra police seized documents mentioning rajiv gandhi type incident \nOriginal summary: to pm at all time high even ministers need clearance to meet him end \nPredicted summary:  start pm modi is govt to work with govt security ministry end\n\n\nReview: the pakistan cricket board welcomed ab de villiers to the pakistan super league with tweet that read the goat from south africa is now part of psl warm welcome to the former south african international announced his arrival with video captioned it time for so there going to be party in february \nOriginal summary: start goat now part of psl pcb welcomes ab de villiers to psl end \nPredicted summary:  start pak pacer afridi posts video of his hat trick end\n\n\nReview: us senator elizabeth warren has proposed new wealth tax which would cost the world richest person jeff bezos 4 1 billion in the first year warren proposed wealth tax of 2 on americans with assets above 50 million and 3 on all fortunes above 1 billion almost all of bezos 137 1 billion wealth is tied up in amazon stock \nOriginal summary: start us senator proposes new tax that would cost bezos in first year end \nPredicted summary:  start us becomes world largest richest person end\n\n\nReview: producers of john abraham and diana penty starrer parmanu the story of pokhran have announced its release date as march clashing with anushka sharma pari there are 000 theatres so it not about clashing for me it like bringing two films of different genres together the co producer of both the films prernaa arora said \nOriginal summary: start john starrer parmanu to clash with anushka pari end \nPredicted summary:  start john abraham starrer starrer october released end\n\n\nReview: a nasa backed study has found tremendous amounts of soot lofted into air from global wildfires following the dinosaur killing asteroid strike 66 million years ago would have plunged earth into darkness for nearly two years this would have shut down photosynthesis and drastically cooled the planet leading to mass extinction of three of species on earth back then the study added \nOriginal summary: start dino killing asteroid might have brought years of end \nPredicted summary:  start nasa finds earth in oldest human found in end\n\n\nReview: terror attacks persist in jammu and kashmir despite prime minister narendra modi threats to pakistan for being lenient towards terror outfits an editorial in shiv sena mouthpiece saamana has said refuting the centre assurance regarding the situation being under control at the india pakistan border the editorial said the area was still \nOriginal summary: start terror attacks in despite pm modi threat sena end \nPredicted summary:  start terror attacks on pak pm modi terror threat to pm modi end\n\n\nReview: nagaland under 19 girls team was dismissed for two runs in 17 overs while playing against kerala in the ongoing bcci women under 19 one day league on friday nagaland opener top scored for the team with run while the other run came off an extra kerala hit boundary on the first ball winning with 299 balls to spare \nOriginal summary: start nagaland team all out for runs rivals win on 1st ball end \nPredicted summary:  start kerala team celebrates strike after 14 year long match end\n\n\nReview: the cemetery in city slovenia has unveiled tombstones with 48 inch interactive screens that can show pictures videos and other digital content the company claims the tombstones are weather proof and cannot be vandalised the tombstones which cost ã¢ââ¬3 000 ã¢ââ¹2 lakh each activate their sensors when someone stands near them \nOriginal summary: start cemetery gets digital that can play videos end \nPredicted summary:  start watch that can detect videos of real time made end\n\n\nReview: terming congress allegations of corruption in the rafale deal as manufactured union minister of state for defence subhash bhamre on thursday said don try to fool people as they are educated enough he added there have been numerous scams during congress rule and the pm modi led government made sure there were no big scams in these last years \nOriginal summary: start don try to fool people govt to congress over rafale deal end \nPredicted summary:  start congress should not be paid rafale deal cong mp end\n\n\nReview: indo canadian youtube star lilly singh also known as superwoman said if you watch something and it makes you laugh great if it doesn that comedy isn wrong it just not suitable for you calling comedy very lilly added the best thing you can do is promote what you love and not bash what you hate \nOriginal summary: start if it doesn make you laugh that comedy isn wrong end \nPredicted summary:  start i don think about it doesn like it tweets user end\n\n\nReview: scientists have discovered the fossils of an elephant sized mammal that lived alongside dinosaurs during the triassic period about 200 million years ago named the four legged creature belonged to group of mammal like reptiles called we think itã¢ââs one of the most unexpected fossil discoveries from the triassic of europe one of the scientists said \nOriginal summary: start fossils of like reptile that lived with dinosaurs found end \nPredicted summary:  start scientists find how to find the new species end\n\n\nReview: the german parliament lower house has approved draft law that partially bans the full face islamic veil for public servants including election officials military and judicial staff while at work the law however allows exceptions such as for health workers protecting themselves against infections or police officers concealing their identity it will now go to the upper house for approval \nOriginal summary: start german parliament approves partial ban on islamic veil end \nPredicted summary:  start germany bans free travel ban on triple talaq end\n\n\nReview: manchester united players including paul pogba marouane fellaini and juan mata met game of thrones actors john bradley west and joe during the team pre season training camp in los angeles john who plays and joe who plays also met josãâ mourinho and posed with united europa league trophy john sported the team away jersey during the interaction \nOriginal summary: start manchester united players meet game of thrones actors in usa end \nPredicted summary:  start man city game of thrones season goes viral end\n\n\nReview: former apple executive neha rastogi who accused her husband and ceo abhishek gattani of domestic abuse has disclosed audio recordings of gattani abusing and beating her in court statement rastogi said he hit me multiple times on my face arms head belly and abused me gattani was allowed plea agreement and faces 30 days in jail \nOriginal summary: start ex apple engineer says husband abused hit her several times end \nPredicted summary:  start ex apple ceo loses iphone in face in court end\n\n\nReview: former ufc fighter tim hague has passed away aged 34 after suffering knockout in boxing fight the canadian mixed martial artist was taken to hospital on friday after being knocked out by adam but died on sunday hague fought 34 mixed martial arts contests in his career including five ufc fights and held an overall 21 13 record \nOriginal summary: start former ufc fighter dies after in boxing fight end \nPredicted summary:  start former american player dies after being hit by end\n\n\nReview: rape convict ram rahim singh adopted daughter honeypreet insan has denied claims of having sexual relationship with her father canã¢âât father put his hand on his head isnã¢âât the father daughter relation sacred relation she questioned honeypreet who is on haryana most wanted list further denied claims of absconding after ram rahim conviction \nOriginal summary: start can father touch daughter head asks honeypreet end \nPredicted summary:  start honeypreet daughter denies father claim he is daughter end\n\n\nReview: talking about modern startup investing silicon valley investor has said we are in the middle of an enormous multi kind of ponzi scheme adding that the investors pressurise the startups to do well he also said they investors aren people writing cheques out of their own balance sheet these are people doing job with other people money \nOriginal summary: start startup investing is ponzi scheme silicon valley investor end \nPredicted summary:  start we are the startup that we have founder end\n\n\nReview: former india cricketer sachin tendulkar paid surprise visit to child care centre in mumbai dressed as santa claus on the occasion of christmas on tuesday sachin spent time with the underprivileged children gave them gifts and also played cricket with them the joy on their innocent faces was just priceless he tweeted \nOriginal summary: start sachin dresses up as santa claus surprises underprivileged kids end \nPredicted summary:  start sachin tendulkar gifts his home to mumbai end\n\n\nReview: four sisters were among the 20 killed when limousine crashed into another vehicle in new york in the deadliest transportation accident in the us since 2009 three of the sisters were accompanied by their husbands who also died in the accident you can wrap your head around such tragedy relative of the sisters said \nOriginal summary: start 4 sisters among 20 killed in crash in new york end \nPredicted summary:  start 3 killed as car crashes into us end\n\n\nReview: the madhya pradesh high court has said that the cases related to the vyapam scam will be heard by seven special courts in four major cities of the state earlier the cases were being heard in 16 special courts notably more than 40 people associated with the scam have died under mysterious circumstances since the story broke in 2013 \nOriginal summary: start vyapam scam cases to be heard by seven special courts hc end \nPredicted summary:  start over 600 people in law found in hc end\n\n\nReview: cars24 has enabled car owners to sell their cars in less than hours with instant payment in their account the company also handles all paperwork including rc transfer cars24 has over 97 branches across 17 cities pan india and having bought over lakh cars in years it has become the market leader in used car transaction space \nOriginal summary: start enables car owners to sell their cars in less than hours end \nPredicted summary:  start car startup raises 1 million from car end\n\n\nReview: the hearing to decide the quantum of punishment to dera chief gurmeet ram rahim singh will take place through video conferencing on august 28 panchkula cbi court had convicted singh on charges of rape on friday as per reports the punishment can be jail term not less than seven years but may even extend to life imprisonment \nOriginal summary: start ram rahim to get rape punishment through video conference end \nPredicted summary:  start ram rahim to be in 1st case of ram rahim end\n\n\nReview: us defence research agency darpa has launched persistent aquatic living sensors program that will study the viability of using both natural and modified sea organisms to detect underwater vehicles the system would aim to translate the biological responses of sea life into usable data to warn ships without needing hardware that could alert the enemy of its detection \nOriginal summary: start us military using sea life to spot threats end \nPredicted summary:  start us to use ai to track human cells end\n\n\nReview: kidambi srikanth and pv sindhu india top ranked male and female shuttlers respectively were knocked out of the bwf china open tournament in the quarterfinal stage on friday srikanth was beaten by japan kento momota in straight games while sindhu lost to china chen yufei with scoreline that read 11 21 21 11 15 21 \nOriginal summary: start sindhu srikanth both knocked out in china open end \nPredicted summary:  start srikanth beats world no in china open semis end\n\n\nReview: delhi daredevils batsman shreyas iyer said that coach ricky ponting speech on their first day of training gave the team members goosebumps iyer who also compared the coaching styles of former dd coach rahul dravid and ponting said dravid is calm and cool he likes to follow the process and nurture the kids \nOriginal summary: start coach ponting speech gave us dd player iyer end \nPredicted summary:  start i was the first cricketer in the world cup end\n\n\nReview: a man in uttar pradesh lucknow built drone in hours to rescue puppy after he saw it drowning in drain the man who makes robots for living assembled an ai controlled robotic arm and attached it to the drone he said that initially he asked people for help but they advised him to let it die \nOriginal summary: start lucknow techie builds drone in hrs to save drowning puppy end \nPredicted summary:  start man tries to run over car in up on road end\n\n\n",
          "output_type": "stream"
        }
      ]
    }
  ]
}